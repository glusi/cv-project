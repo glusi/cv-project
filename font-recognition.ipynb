{
 "cells": [
  {
   "attachments": {},
   "cell_type": "markdown",
   "metadata": {
    "tags": []
   },
   "source": [
    "# Computer Vision - Project\n",
    "## imports"
   ]
  },
  {
   "cell_type": "code",
   "execution_count": 18,
   "metadata": {
    "tags": []
   },
   "outputs": [],
   "source": [
    "import numpy as np\n",
    "import cv2\n",
    "import matplotlib.pyplot as plt\n",
    "import h5py\n",
    "from sklearn.model_selection import train_test_split\n",
    "from keras.models import Sequential\n",
    "from keras.layers import Dense, Dropout, Activation, Flatten\n",
    "from keras.layers import Convolution2D, MaxPooling2D\n",
    "from keras.utils import np_utils\n",
    "import tensorflow as tf\n",
    "from tensorflow.compat.v1 import ConfigProto\n",
    "from tensorflow.compat.v1 import InteractiveSession\n",
    "config = ConfigProto()\n",
    "config.gpu_options.allow_growth = True\n",
    "session = InteractiveSession(config=config)\n",
    "from keras.models import Model\n",
    "from keras.layers import Dense\n",
    "from keras.layers import Flatten, BatchNormalization, ZeroPadding2D, GlobalMaxPooling2D\n",
    "from keras.layers.convolutional import Conv2D\n",
    "from keras.layers.pooling import MaxPooling2D\n",
    "from tqdm import tqdm\n",
    "from pathlib import Path\n",
    "import splitfolders\n",
    "from keras.preprocessing.image import ImageDataGenerator\n",
    "from tensorflow.keras import callbacks\n",
    "from tensorflow.keras.applications.resnet50 import ResNet50\n",
    "from tensorflow.keras.layers import AveragePooling2D\n",
    "from tensorflow.keras.layers import GaussianNoise\n",
    "from keras import regularizers\n",
    "from download_h5py_db import download_h5py_db\n",
    "from sklearn.metrics import classification_report\n",
    "import utils"
   ]
  },
  {
   "attachments": {},
   "cell_type": "markdown",
   "metadata": {},
   "source": [
    "## Constants"
   ]
  },
  {
   "cell_type": "code",
   "execution_count": 19,
   "metadata": {},
   "outputs": [],
   "source": [
    "FILE_NAME =\"SynthText_train.h5\"\n",
    "gpus = tf.config.experimental.list_physical_devices('GPU')\n",
    "for gpu in gpus:\n",
    "  tf.config.experimental.set_memory_growth(gpu, True)\n",
    "tf.keras.backend.clear_session()\n",
    "num_classes = 5\n",
    "if Path(FILE_NAME).exists():\n",
    "  db = h5py.File(FILE_NAME, 'r')\n",
    "main_directory='main_directory'\n",
    "main_directory_splitted='main_directory_splitted'\n"
   ]
  },
  {
   "attachments": {},
   "cell_type": "markdown",
   "metadata": {},
   "source": [
    "## Helper Functions"
   ]
  },
  {
   "cell_type": "code",
   "execution_count": 20,
   "metadata": {},
   "outputs": [],
   "source": [
    "def draw_training_curve(history):\n",
    "\t\"\"\"\n",
    "\tDraw training curve\n",
    "\tParameters:\n",
    "\t\thistory - contains loss and accuracy from training\n",
    "\tReturns:\n",
    "\t\tNone\n",
    "\t\"\"\"\n",
    "\tplt.figure(1)\n",
    "\n",
    "\t# History for accuracy\n",
    "\tplt.subplot(211)\n",
    "\tplt.plot(history.history['accuracy'])\n",
    "\tplt.plot(history.history['val_accuracy'])\n",
    "\tplt.title('model accuracy')\n",
    "\tplt.ylabel('accuracy')\n",
    "\tplt.xlabel('epoch')\n",
    "\tplt.legend(['train', 'test'], loc='upper left')\n",
    "\n",
    "\t# History for loss\n",
    "\tplt.subplot(212)\n",
    "\tplt.plot(history.history['loss'])\n",
    "\tplt.plot(history.history['val_loss'])\n",
    "\tplt.title('model loss')\n",
    "\tplt.ylabel('loss')\n",
    "\tplt.xlabel('epoch')\n",
    "\tplt.legend(['train', 'test'], loc='upper left')\n",
    "\n",
    "\tplt.show()"
   ]
  },
  {
   "attachments": {},
   "cell_type": "markdown",
   "metadata": {},
   "source": [
    "### Get data"
   ]
  },
  {
   "cell_type": "code",
   "execution_count": 21,
   "metadata": {},
   "outputs": [],
   "source": [
    "def get_data_set(db, size: int):   \n",
    "    utils.create_dirs(main_directory)\n",
    "    im_names = list(db['data'].keys())\n",
    "    num = 0\n",
    "    for i in tqdm(range(0, len(im_names))):\n",
    "        im = im_names[i]\n",
    "        img, fonts, txts, charBBs, wordBBs = utils.get_image_data(db, im)\n",
    "        font_indx = 0 \n",
    "        char_indx = 0\n",
    "        for j in range(0, len(txts)):\n",
    "            if(j%20!=0):\n",
    "                cropped = utils.prepare_img(img, wordBBs, j, size)\n",
    "                path = main_directory+'/'+fonts[font_indx].decode('UTF-8')+'/'+im+'_'+str(num)+'.png' \n",
    "                tf.keras.utils.save_img(path,cropped)\n",
    "                num+=1\n",
    "                for k in range(0, len(txts[j])):\n",
    "                    if(utils.is_num_or_letter(txts[j][k])):\n",
    "                        cropped = utils.prepare_img(img, charBBs, char_indx, size)\n",
    "                        path = main_directory+'/'+fonts[font_indx].decode('UTF-8')+'/'+im+'_'+str(num)+'.png'\n",
    "                        tf.keras.utils.save_img(path,cropped)\n",
    "                        num+=1\n",
    "                    char_indx+=1\n",
    "            else:\n",
    "                char_indx += len(txts[j])\n",
    "            font_indx += len(txts[j])\n",
    "    print(num)"
   ]
  },
  {
   "cell_type": "code",
   "execution_count": 22,
   "metadata": {},
   "outputs": [
    {
     "name": "stderr",
     "output_type": "stream",
     "text": [
      "100%|██████████| 998/998 [03:28<00:00,  4.79it/s]"
     ]
    },
    {
     "name": "stdout",
     "output_type": "stream",
     "text": [
      "32061\n"
     ]
    },
    {
     "name": "stderr",
     "output_type": "stream",
     "text": [
      "\n"
     ]
    }
   ],
   "source": [
    "\n",
    "if not Path(main_directory).exists():\n",
    "    download_h5py_db()\n",
    "    db = h5py.File(FILE_NAME, 'r')\n",
    "    get_data_set(db, utils.SIZE)\n"
   ]
  },
  {
   "cell_type": "code",
   "execution_count": 23,
   "metadata": {},
   "outputs": [
    {
     "name": "stderr",
     "output_type": "stream",
     "text": [
      "Copying files: 32061 files [00:45, 708.94 files/s]\n"
     ]
    }
   ],
   "source": [
    "\n",
    "if not Path(main_directory_splitted).exists():\n",
    "    splitfolders.ratio(main_directory, # The location of dataset\n",
    "                    output=main_directory_splitted, # The output location\n",
    "                    seed=42, # The number of seed\n",
    "                    ratio=(.9, .1), # The ratio of splited dataset\n",
    "                    group_prefix=None, # If your dataset contains more than one file like \".jpg\", \".pdf\", etc\n",
    "                    move=False # If you choose to move, turn this into True\n",
    "                    )"
   ]
  },
  {
   "attachments": {},
   "cell_type": "markdown",
   "metadata": {},
   "source": [
    "### Augment data"
   ]
  },
  {
   "cell_type": "code",
   "execution_count": 12,
   "metadata": {},
   "outputs": [],
   "source": [
    "def data_augmentation():\n",
    "    datagen =  ImageDataGenerator(\n",
    "        horizontal_flip=True, rotation_range=90, fill_mode='reflect', channel_shift_range=0.8,#\n",
    "         shear_range=15,vertical_flip=False, brightness_range=(0.2, 0.8),# \n",
    "     rescale=1/255, dtype='float32'\n",
    "     )\n",
    "    it = datagen.flow_from_directory(main_directory_splitted+'/train/', batch_size=18, class_mode='categorical', target_size=(utils.SIZE,utils.SIZE),\n",
    "     shuffle=True, seed=1, keep_aspect_ratio=True)\n",
    "    datagen_val =  ImageDataGenerator(\n",
    "     rescale=1/255, dtype='float32'\n",
    "     )\n",
    "    val_it = datagen_val.flow_from_directory(main_directory_splitted+'/val/', batch_size=18, class_mode='categorical',  target_size=(utils.SIZE,utils.SIZE),\n",
    "     shuffle=True)\n",
    "    return it, val_it, datagen"
   ]
  },
  {
   "cell_type": "code",
   "execution_count": 24,
   "metadata": {},
   "outputs": [
    {
     "name": "stdout",
     "output_type": "stream",
     "text": [
      "Found 28852 images belonging to 5 classes.\n",
      "Found 3209 images belonging to 5 classes.\n"
     ]
    }
   ],
   "source": [
    "it, val_it, datagen = data_augmentation()"
   ]
  },
  {
   "attachments": {},
   "cell_type": "markdown",
   "metadata": {},
   "source": [
    "### Create Model"
   ]
  },
  {
   "cell_type": "code",
   "execution_count": 30,
   "metadata": {},
   "outputs": [],
   "source": [
    "\n",
    "early_stopping=callbacks.EarlyStopping(monitor='val_loss', min_delta=0, patience=10, verbose=0, mode='min')\n",
    "filepath=\"res/res_model3.h5\"\n",
    "checkpoint = callbacks.ModelCheckpoint(filepath, monitor='val_loss', verbose=1, save_best_only=True, mode='min')\n",
    "callbacks_list = [early_stopping,checkpoint]"
   ]
  },
  {
   "cell_type": "code",
   "execution_count": 35,
   "metadata": {},
   "outputs": [],
   "source": [
    "baseModel = tf.keras.applications.ResNet50(include_top=False, classes=num_classes,\n",
    "                         input_shape=(utils.SIZE, utils.SIZE, 3),\n",
    "                        weights='imagenet')\n",
    "headModel = baseModel.output\n",
    "headModel = Dropout(0.3)(headModel)\n",
    "headModel = GaussianNoise(0.2)(headModel)\n",
    "headModel = AveragePooling2D(pool_size=(7, 7))(headModel)\n",
    "headModel = Flatten(name=\"flatten\")(headModel)\n",
    "headModel = Dropout(0.5)(headModel)\n",
    "headModel = Dense(256, activation=\"relu\", kernel_regularizer=regularizers.l2(0.01))(headModel)\n",
    "headModel = Dropout(0.5)(headModel)\n",
    "headModel = Dense(num_classes, activation=\"softmax\")(headModel)\n",
    "model = Model(inputs=baseModel.input, outputs=headModel)    \n",
    "model.compile(optimizer=tf.keras.optimizers.Adam(0.00003), loss='categorical_crossentropy', metrics=['accuracy'])"
   ]
  },
  {
   "cell_type": "code",
   "execution_count": 36,
   "metadata": {},
   "outputs": [
    {
     "name": "stdout",
     "output_type": "stream",
     "text": [
      "Epoch 1/30\n",
      "1603/1603 [==============================] - ETA: 0s - loss: 5.7812 - accuracy: 0.3681\n",
      "Epoch 1: val_loss improved from inf to 5.05797, saving model to res\\res_model3.h5\n",
      "1603/1603 [==============================] - 435s 267ms/step - loss: 5.7812 - accuracy: 0.3681 - val_loss: 5.0580 - val_accuracy: 0.5030\n",
      "Epoch 2/30\n",
      "1603/1603 [==============================] - ETA: 0s - loss: 4.4936 - accuracy: 0.5329\n",
      "Epoch 2: val_loss improved from 5.05797 to 3.86660, saving model to res\\res_model3.h5\n",
      "1603/1603 [==============================] - 404s 252ms/step - loss: 4.4936 - accuracy: 0.5329 - val_loss: 3.8666 - val_accuracy: 0.6089\n",
      "Epoch 3/30\n",
      "1603/1603 [==============================] - ETA: 0s - loss: 3.4349 - accuracy: 0.6008\n",
      "Epoch 3: val_loss improved from 3.86660 to 2.92485, saving model to res\\res_model3.h5\n",
      "1603/1603 [==============================] - 443s 276ms/step - loss: 3.4349 - accuracy: 0.6008 - val_loss: 2.9248 - val_accuracy: 0.6326\n",
      "Epoch 4/30\n",
      "1603/1603 [==============================] - ETA: 0s - loss: 2.5589 - accuracy: 0.6446\n",
      "Epoch 4: val_loss improved from 2.92485 to 2.17330, saving model to res\\res_model3.h5\n",
      "1603/1603 [==============================] - 462s 288ms/step - loss: 2.5589 - accuracy: 0.6446 - val_loss: 2.1733 - val_accuracy: 0.6719\n",
      "Epoch 5/30\n",
      "1603/1603 [==============================] - ETA: 0s - loss: 1.9194 - accuracy: 0.6821\n",
      "Epoch 5: val_loss improved from 2.17330 to 1.67887, saving model to res\\res_model3.h5\n",
      "1603/1603 [==============================] - 462s 288ms/step - loss: 1.9194 - accuracy: 0.6821 - val_loss: 1.6789 - val_accuracy: 0.6940\n",
      "Epoch 6/30\n",
      "1603/1603 [==============================] - ETA: 0s - loss: 1.4907 - accuracy: 0.7069\n",
      "Epoch 6: val_loss improved from 1.67887 to 1.34001, saving model to res\\res_model3.h5\n",
      "1603/1603 [==============================] - 452s 282ms/step - loss: 1.4907 - accuracy: 0.7069 - val_loss: 1.3400 - val_accuracy: 0.7046\n",
      "Epoch 7/30\n",
      "1603/1603 [==============================] - ETA: 0s - loss: 1.2025 - accuracy: 0.7361\n",
      "Epoch 7: val_loss improved from 1.34001 to 1.11831, saving model to res\\res_model3.h5\n",
      "1603/1603 [==============================] - 391s 244ms/step - loss: 1.2025 - accuracy: 0.7361 - val_loss: 1.1183 - val_accuracy: 0.7283\n",
      "Epoch 8/30\n",
      "1603/1603 [==============================] - ETA: 0s - loss: 0.9982 - accuracy: 0.7528\n",
      "Epoch 8: val_loss improved from 1.11831 to 0.95310, saving model to res\\res_model3.h5\n",
      "1603/1603 [==============================] - 392s 245ms/step - loss: 0.9982 - accuracy: 0.7528 - val_loss: 0.9531 - val_accuracy: 0.7554\n",
      "Epoch 9/30\n",
      "1603/1603 [==============================] - ETA: 0s - loss: 0.8463 - accuracy: 0.7732\n",
      "Epoch 9: val_loss improved from 0.95310 to 0.85258, saving model to res\\res_model3.h5\n",
      "1603/1603 [==============================] - 391s 244ms/step - loss: 0.8463 - accuracy: 0.7732 - val_loss: 0.8526 - val_accuracy: 0.7610\n",
      "Epoch 10/30\n",
      "1603/1603 [==============================] - ETA: 0s - loss: 0.7418 - accuracy: 0.7863\n",
      "Epoch 10: val_loss improved from 0.85258 to 0.76370, saving model to res\\res_model3.h5\n",
      "1603/1603 [==============================] - 396s 247ms/step - loss: 0.7418 - accuracy: 0.7863 - val_loss: 0.7637 - val_accuracy: 0.7638\n",
      "Epoch 11/30\n",
      "1603/1603 [==============================] - ETA: 0s - loss: 0.6598 - accuracy: 0.8004\n",
      "Epoch 11: val_loss improved from 0.76370 to 0.69172, saving model to res\\res_model3.h5\n",
      "1603/1603 [==============================] - 389s 242ms/step - loss: 0.6598 - accuracy: 0.8004 - val_loss: 0.6917 - val_accuracy: 0.7822\n",
      "Epoch 12/30\n",
      "1603/1603 [==============================] - ETA: 0s - loss: 0.5966 - accuracy: 0.8116\n",
      "Epoch 12: val_loss improved from 0.69172 to 0.65412, saving model to res\\res_model3.h5\n",
      "1603/1603 [==============================] - 390s 243ms/step - loss: 0.5966 - accuracy: 0.8116 - val_loss: 0.6541 - val_accuracy: 0.7897\n",
      "Epoch 13/30\n",
      "1603/1603 [==============================] - ETA: 0s - loss: 0.5491 - accuracy: 0.8206\n",
      "Epoch 13: val_loss improved from 0.65412 to 0.59933, saving model to res\\res_model3.h5\n",
      "1603/1603 [==============================] - 391s 244ms/step - loss: 0.5491 - accuracy: 0.8206 - val_loss: 0.5993 - val_accuracy: 0.8012\n",
      "Epoch 14/30\n",
      "1603/1603 [==============================] - ETA: 0s - loss: 0.5101 - accuracy: 0.8284\n",
      "Epoch 14: val_loss improved from 0.59933 to 0.55601, saving model to res\\res_model3.h5\n",
      "1603/1603 [==============================] - 389s 242ms/step - loss: 0.5101 - accuracy: 0.8284 - val_loss: 0.5560 - val_accuracy: 0.8158\n",
      "Epoch 15/30\n",
      "1603/1603 [==============================] - ETA: 0s - loss: 0.4735 - accuracy: 0.8367\n",
      "Epoch 15: val_loss did not improve from 0.55601\n",
      "1603/1603 [==============================] - 391s 244ms/step - loss: 0.4735 - accuracy: 0.8367 - val_loss: 0.6054 - val_accuracy: 0.7906\n",
      "Epoch 16/30\n",
      "1603/1603 [==============================] - ETA: 0s - loss: 0.4507 - accuracy: 0.8447\n",
      "Epoch 16: val_loss did not improve from 0.55601\n",
      "1603/1603 [==============================] - 388s 242ms/step - loss: 0.4507 - accuracy: 0.8447 - val_loss: 0.6138 - val_accuracy: 0.7837\n",
      "Epoch 17/30\n",
      "1603/1603 [==============================] - ETA: 0s - loss: 0.4192 - accuracy: 0.8551\n",
      "Epoch 17: val_loss improved from 0.55601 to 0.53192, saving model to res\\res_model3.h5\n",
      "1603/1603 [==============================] - 393s 245ms/step - loss: 0.4192 - accuracy: 0.8551 - val_loss: 0.5319 - val_accuracy: 0.8177\n",
      "Epoch 18/30\n",
      "1603/1603 [==============================] - ETA: 0s - loss: 0.4060 - accuracy: 0.8592\n",
      "Epoch 18: val_loss improved from 0.53192 to 0.51411, saving model to res\\res_model3.h5\n",
      "1603/1603 [==============================] - 391s 244ms/step - loss: 0.4060 - accuracy: 0.8592 - val_loss: 0.5141 - val_accuracy: 0.8199\n",
      "Epoch 19/30\n",
      "1603/1603 [==============================] - ETA: 0s - loss: 0.3846 - accuracy: 0.8650\n",
      "Epoch 19: val_loss improved from 0.51411 to 0.50845, saving model to res\\res_model3.h5\n",
      "1603/1603 [==============================] - 393s 245ms/step - loss: 0.3846 - accuracy: 0.8650 - val_loss: 0.5085 - val_accuracy: 0.8286\n",
      "Epoch 20/30\n",
      "1603/1603 [==============================] - ETA: 0s - loss: 0.3638 - accuracy: 0.8721\n",
      "Epoch 20: val_loss did not improve from 0.50845\n",
      "1603/1603 [==============================] - 389s 242ms/step - loss: 0.3638 - accuracy: 0.8721 - val_loss: 0.5529 - val_accuracy: 0.8136\n",
      "Epoch 21/30\n",
      "1603/1603 [==============================] - ETA: 0s - loss: 0.3465 - accuracy: 0.8778\n",
      "Epoch 21: val_loss did not improve from 0.50845\n",
      "1603/1603 [==============================] - 388s 242ms/step - loss: 0.3465 - accuracy: 0.8778 - val_loss: 0.5168 - val_accuracy: 0.8208\n",
      "Epoch 22/30\n",
      "1603/1603 [==============================] - ETA: 0s - loss: 0.3348 - accuracy: 0.8833\n",
      "Epoch 22: val_loss did not improve from 0.50845\n",
      "1603/1603 [==============================] - 386s 241ms/step - loss: 0.3348 - accuracy: 0.8833 - val_loss: 0.6009 - val_accuracy: 0.7978\n",
      "Epoch 23/30\n",
      "1603/1603 [==============================] - ETA: 0s - loss: 0.3193 - accuracy: 0.8881\n",
      "Epoch 23: val_loss improved from 0.50845 to 0.49948, saving model to res\\res_model3.h5\n",
      "1603/1603 [==============================] - 387s 241ms/step - loss: 0.3193 - accuracy: 0.8881 - val_loss: 0.4995 - val_accuracy: 0.8280\n",
      "Epoch 24/30\n",
      "1603/1603 [==============================] - ETA: 0s - loss: 0.3072 - accuracy: 0.8929\n",
      "Epoch 24: val_loss improved from 0.49948 to 0.49516, saving model to res\\res_model3.h5\n",
      "1603/1603 [==============================] - 388s 242ms/step - loss: 0.3072 - accuracy: 0.8929 - val_loss: 0.4952 - val_accuracy: 0.8274\n",
      "Epoch 25/30\n",
      "1603/1603 [==============================] - ETA: 0s - loss: 0.2927 - accuracy: 0.8989\n",
      "Epoch 25: val_loss did not improve from 0.49516\n",
      "1603/1603 [==============================] - 385s 240ms/step - loss: 0.2927 - accuracy: 0.8989 - val_loss: 0.5662 - val_accuracy: 0.8246\n",
      "Epoch 26/30\n",
      "1603/1603 [==============================] - ETA: 0s - loss: 0.2873 - accuracy: 0.9028\n",
      "Epoch 26: val_loss did not improve from 0.49516\n",
      "1603/1603 [==============================] - 393s 245ms/step - loss: 0.2873 - accuracy: 0.9028 - val_loss: 0.5396 - val_accuracy: 0.8199\n",
      "Epoch 27/30\n",
      "1603/1603 [==============================] - ETA: 0s - loss: 0.2729 - accuracy: 0.9065\n",
      "Epoch 27: val_loss improved from 0.49516 to 0.49257, saving model to res\\res_model3.h5\n",
      "1603/1603 [==============================] - 389s 242ms/step - loss: 0.2729 - accuracy: 0.9065 - val_loss: 0.4926 - val_accuracy: 0.8289\n",
      "Epoch 28/30\n",
      "1603/1603 [==============================] - ETA: 0s - loss: 0.2621 - accuracy: 0.9094\n",
      "Epoch 28: val_loss improved from 0.49257 to 0.49169, saving model to res\\res_model3.h5\n",
      "1603/1603 [==============================] - 393s 245ms/step - loss: 0.2621 - accuracy: 0.9094 - val_loss: 0.4917 - val_accuracy: 0.8327\n",
      "Epoch 29/30\n",
      "1603/1603 [==============================] - ETA: 0s - loss: 0.2502 - accuracy: 0.9139\n",
      "Epoch 29: val_loss did not improve from 0.49169\n",
      "1603/1603 [==============================] - 388s 242ms/step - loss: 0.2502 - accuracy: 0.9139 - val_loss: 0.5302 - val_accuracy: 0.8339\n",
      "Epoch 30/30\n",
      "1603/1603 [==============================] - ETA: 0s - loss: 0.2439 - accuracy: 0.9185\n",
      "Epoch 30: val_loss did not improve from 0.49169\n",
      "1603/1603 [==============================] - 386s 241ms/step - loss: 0.2439 - accuracy: 0.9185 - val_loss: 0.5152 - val_accuracy: 0.8302\n"
     ]
    }
   ],
   "source": [
    "# model.fit(X_train, Y_train, batch_size=16, epochs=20)\n",
    "# datagen.fit(X_train)\n",
    "# if not os.path.isfile('model_res.h5'):\n",
    "history = model.fit(it, epochs=30, shuffle=True, validation_data=val_it, verbose=1\n",
    "            ,callbacks=callbacks_list\n",
    "            )\n",
    "# else:\n",
    "#   model = tf.keras.models.load_model('model_res.h5')"
   ]
  },
  {
   "attachments": {},
   "cell_type": "markdown",
   "metadata": {},
   "source": [
    "0.3722 - 0.4952"
   ]
  },
  {
   "cell_type": "code",
   "execution_count": 38,
   "metadata": {},
   "outputs": [
    {
     "ename": "AttributeError",
     "evalue": "'Functional' object has no attribute 'summery'",
     "output_type": "error",
     "traceback": [
      "\u001b[1;31m---------------------------------------------------------------------------\u001b[0m",
      "\u001b[1;31mAttributeError\u001b[0m                            Traceback (most recent call last)",
      "Cell \u001b[1;32mIn[38], line 1\u001b[0m\n\u001b[1;32m----> 1\u001b[0m \u001b[39mprint\u001b[39m(model\u001b[39m.\u001b[39;49msummery)\n",
      "\u001b[1;31mAttributeError\u001b[0m: 'Functional' object has no attribute 'summery'"
     ]
    }
   ],
   "source": [
    "print(model.summery)"
   ]
  },
  {
   "cell_type": "code",
   "execution_count": 39,
   "metadata": {},
   "outputs": [
    {
     "name": "stdout",
     "output_type": "stream",
     "text": [
      "179/179 [==============================] - 12s 67ms/step - loss: 0.5152 - accuracy: 0.8302\n"
     ]
    }
   ],
   "source": [
    "score = model.evaluate(val_it)"
   ]
  },
  {
   "cell_type": "markdown",
   "metadata": {},
   "source": [
    "score = model.evaluate(test_it)"
   ]
  },
  {
   "cell_type": "code",
   "execution_count": 40,
   "metadata": {},
   "outputs": [
    {
     "name": "stdout",
     "output_type": "stream",
     "text": [
      "Test loss: 0.515245795249939 / Test accuracy: 0.8301651477813721\n"
     ]
    }
   ],
   "source": [
    "print(f'Test loss: {score[0]} / Test accuracy: {score[1]}')"
   ]
  },
  {
   "cell_type": "code",
   "execution_count": 41,
   "metadata": {},
   "outputs": [
    {
     "data": {
      "image/png": "[encoded data removed]",
      "text/plain": [
       "<Figure size 640x480 with 2 Axes>"
      ]
     },
     "metadata": {},
     "output_type": "display_data"
    }
   ],
   "source": [
    "draw_training_curve(history)"
   ]
  },
  {
   "cell_type": "code",
   "execution_count": 88,
   "metadata": {},
   "outputs": [],
   "source": [
    "model = tf.keras.models.load_model('res//res_model3.h5')"
   ]
  },
  {
   "cell_type": "code",
   "execution_count": 89,
   "metadata": {},
   "outputs": [
    {
     "name": "stdout",
     "output_type": "stream",
     "text": [
      "179/179 [==============================] - 13s 67ms/step - loss: 0.4917 - accuracy: 0.8327\n"
     ]
    },
    {
     "data": {
      "text/plain": [
       "[0.4916921854019165, 0.8326581716537476]"
      ]
     },
     "execution_count": 89,
     "metadata": {},
     "output_type": "execute_result"
    }
   ],
   "source": [
    "model.evaluate(val_it)"
   ]
  },
  {
   "cell_type": "code",
   "execution_count": 50,
   "metadata": {},
   "outputs": [],
   "source": [
    "def crop_and_save(img, BBs, indx, size, curr_font, im, num, append_not_save=False, folder='main_directory/'):\n",
    "    cropped = utils.prepare_img(img, BBs, indx, size)\n",
    "    if not append_not_save:\n",
    "        path = folder+curr_font.decode('UTF-8')+'/'+im+'_'+str(num)+'.png' \n",
    "        tf.keras.utils.save_img(path,cropped)\n",
    "    return cropped"
   ]
  },
  {
   "cell_type": "code",
   "execution_count": 80,
   "metadata": {},
   "outputs": [],
   "source": [
    "def prepare_img(img, bbs, index, size = utils.SIZE):\n",
    "    x1 = int(bbs[0,0,index])\n",
    "    y1 = int(bbs[1,0,index])\n",
    "    x2 = int(bbs[0,1,index])\n",
    "    y2 = int(bbs[1,1,index])\n",
    "    x3 = int(bbs[0,2,index])\n",
    "    y3 = int(bbs[1,2,index])\n",
    "    x4 = int(bbs[0,3,index])\n",
    "    y4 = int(bbs[1,3,index])\n",
    "    # calculate bounding rectangle\n",
    "    top_left_x = max(0, min([x1,x2,x3,x4]))\n",
    "    top_left_y = max(0, min([y1,y2,y3,y4]))\n",
    "    bot_right_x = max(0, max([x1,x2,x3,x4]))\n",
    "    bot_right_y = max(0, max([y1,y2,y3,y4]))\n",
    "\n",
    "    cropped = img[top_left_y:bot_right_y+1, top_left_x:bot_right_x+1]\n",
    "    # _, cropped = cv2.threshold(cropped,127,255,cv2.THRESH_TRIANGLE)\n",
    "    # print(cropped.shape)\n",
    "    cropped = tf.image.resize(cropped, (size, size), method=tf.image.ResizeMethod.NEAREST_NEIGHBOR)\n",
    "    # cropped = tf.image.rgb_to_grayscale(cropped)\n",
    "    # # print(cropped.shape)\n",
    "    cropped = tf.image.convert_image_dtype(cropped, tf.float32)\n",
    "    # plt.imshow(cropped, cmap='gray')\n",
    "    # plt.show()\n",
    "    return cropped"
   ]
  },
  {
   "cell_type": "code",
   "execution_count": 81,
   "metadata": {},
   "outputs": [],
   "source": [
    "def create_dirs(main_dir):\n",
    "    Path(main_dir).mkdir(parents=True, exist_ok=True)\n",
    "    Path(main_dir+'/Alex Brush').mkdir(parents=True, exist_ok=True)\n",
    "    Path(main_dir+'/Titillium Web').mkdir(parents=True, exist_ok=True)\n",
    "    Path(main_dir+'/Sansation').mkdir(parents=True, exist_ok=True)\n",
    "    Path(main_dir+'/Open Sans').mkdir(parents=True, exist_ok=True)\n",
    "    Path(main_dir+'/Ubuntu Mono').mkdir(parents=True, exist_ok=True)"
   ]
  },
  {
   "cell_type": "code",
   "execution_count": 82,
   "metadata": {},
   "outputs": [],
   "source": [
    "def font_to_num(font):\n",
    "    if font == b'Alex Brush':\n",
    "        return 0\n",
    "    elif font == b'Open Sans':\n",
    "        return 1\n",
    "    elif font == b'Sansation':\n",
    "        return 2\n",
    "    elif font == b'Titillium Web':\n",
    "        return 3\n",
    "    else:\n",
    "        return 4"
   ]
  },
  {
   "cell_type": "code",
   "execution_count": 83,
   "metadata": {},
   "outputs": [],
   "source": [
    "def get_image_data(db, im):\n",
    "    img  = db['data'][im][:]\n",
    "    fonts = db['data'][im].attrs['font']\n",
    "    txts = db['data'][im].attrs['txt']\n",
    "    charBBs = db['data'][im].attrs['charBB']\n",
    "    wordBBs = db['data'][im].attrs['wordBB']\n",
    "    return img, fonts, txts, charBBs, wordBBs"
   ]
  },
  {
   "cell_type": "code",
   "execution_count": 108,
   "metadata": {},
   "outputs": [
    {
     "name": "stderr",
     "output_type": "stream",
     "text": [
      "100%|██████████| 998/998 [03:13<00:00,  5.16it/s]\n"
     ]
    }
   ],
   "source": [
    "from sklearn.preprocessing import normalize\n",
    "create_dirs('test_set')\n",
    "size=utils.SIZE\n",
    "im_names = list(db['data'].keys())\n",
    "num = 0\n",
    "prediction_arr=[]\n",
    "test_y = []\n",
    "test_x_total = []\n",
    "test_y_total = []\n",
    "for i in tqdm(range(0, int(len(im_names)))):\n",
    "    im = im_names[i]\n",
    "    img, fonts, txts, charBBs, wordBBs = get_image_data(db, im)\n",
    "    font_indx = 0 \n",
    "    char_indx = 0\n",
    "    \n",
    "    # print(im)\n",
    "    for j in range(0, len(txts)):\n",
    "        if(j%8==0): \n",
    "            curr_font = fonts[font_indx]\n",
    "            test_x = [] \n",
    "            cropped = crop_and_save(img, wordBBs, j, size, curr_font, im, num, False, 'test_set/')\n",
    "            test_x.append(cropped)\n",
    "            test_x_total.append(cropped)\n",
    "            test_y_total.append(font_to_num(curr_font))\n",
    "            # test_y.append(font_to_num(curr_font))\n",
    "            num+=1            \n",
    "            for k in range(0, len(txts[j])):\n",
    "                # if(is_num_or_letter(txts[j][k])):\n",
    "                cropped = crop_and_save(img, charBBs, char_indx, size, curr_font, im, num, False, 'test_set/')\n",
    "                test_x.append(cropped)\n",
    "                # test_x_total.append(cropped)\n",
    "                # test_y_total.append(font_to_num(curr_font))\n",
    "                    # test_y.append(font_to_num(curr_font))\n",
    "                num+=1\n",
    "                char_indx+=1\n",
    "            test_x = np.asarray(test_x, dtype=np.float32)\n",
    "            # # print(test_x)\n",
    "            reses = model.predict(test_x, verbose=0)\n",
    "            # # print(reses)\n",
    "            maxes = np.argmax(reses, axis=1)\n",
    "            # print(np.bincount(maxes))\n",
    "            prediction = np.bincount(maxes)\n",
    "            prediction = (prediction==prediction.max()).argmax()\n",
    "            # prediction = np.argwhere(prediction==prediction.max())\n",
    "            # if (len(prediction)>1):\n",
    "            #     sum_p = reses.sum(axis=0)\n",
    "            #     prediction = sum_p.argmax()\n",
    "\n",
    "                # if(font_to_num(curr_font)!=prediction):\n",
    "                #     # print(sum_p)\n",
    "                #     reses_n = normalize(reses, axis=1, norm='l1')\n",
    "                #     maxes_n = np.argmax(reses_n, axis=1)\n",
    "                #     # print(np.bincount(maxes))\n",
    "                #     prediction = np.bincount(maxes_n)\n",
    "                #     prediction = np.argmax(prediction)\n",
    "                #     if(font_to_num(curr_font)!=prediction):\n",
    "                #         sum_p = np.sum(reses, axis=0)\n",
    "                #         prediction = sum_p.argmax()\n",
    "                #     # # print(reses[0]/np.sum(reses, axis=1)[0])\n",
    "                #     #     print(maxes)\n",
    "                #     # print(prediction)\n",
    "                #     # plt.imshow(test_x[0])\n",
    "                #     # plt.show()\n",
    "                    # print(prediction)\n",
    "                    # print(font_to_num(fonts[font_indx]))\n",
    "            for k in range(0, len(txts[j])):\n",
    "                test_y.append(font_to_num(fonts[font_indx]))\n",
    "                prediction_arr.append(prediction.item())\n",
    "                # print(prediction.item())\n",
    "            # if(font_to_num(curr_font)!=prediction):\n",
    "            #     plt.imshow(test_x[0])\n",
    "            #     plt.show()\n",
    "            #     print(maxes)\n",
    "            #     print(reses)\n",
    "            #     print(prediction)\n",
    "            #     print(font_to_num(fonts[font_indx]))\n",
    "            #     print('----------------------')\n",
    "            # print(num_to_font(prediction))\n",
    "                        # print(test_x)\n",
    "            # print(str(np.bincount(maxes).argmax())+\"-\"+str(font_to_num(fonts[font_indx])))\n",
    "            # print(np.bincount(maxes).argmax())\n",
    "        else:\n",
    "            char_indx+=len(txts[j])\n",
    "        font_indx += len(txts[j])"
   ]
  },
  {
   "attachments": {},
   "cell_type": "markdown",
   "metadata": {},
   "source": [
    "Check with arrays per image"
   ]
  },
  {
   "cell_type": "code",
   "execution_count": 109,
   "metadata": {},
   "outputs": [
    {
     "name": "stdout",
     "output_type": "stream",
     "text": [
      "5694\n",
      "5694\n"
     ]
    }
   ],
   "source": [
    "print(len(prediction_arr))\n",
    "print(len(test_y))"
   ]
  },
  {
   "cell_type": "code",
   "execution_count": 110,
   "metadata": {},
   "outputs": [
    {
     "name": "stdout",
     "output_type": "stream",
     "text": [
      "               precision    recall  f1-score   support\n",
      "\n",
      "   Alex Brush       0.90      0.98      0.94      1137\n",
      "    Open Sans       0.78      0.88      0.83       970\n",
      "    Sansation       0.84      0.81      0.82      1196\n",
      "Titillium Web       0.95      0.80      0.87      1127\n",
      "  Ubuntu Mono       0.95      0.95      0.95      1264\n",
      "\n",
      "     accuracy                           0.89      5694\n",
      "    macro avg       0.89      0.88      0.88      5694\n",
      " weighted avg       0.89      0.89      0.88      5694\n",
      "\n"
     ]
    }
   ],
   "source": [
    "\n",
    "labels=['Alex Brush','Open Sans','Sansation','Titillium Web','Ubuntu Mono']\n",
    "print(classification_report(test_y, prediction_arr, target_names=labels))"
   ]
  },
  {
   "attachments": {},
   "cell_type": "markdown",
   "metadata": {},
   "source": [
    "Check with one big array"
   ]
  },
  {
   "cell_type": "code",
   "execution_count": 93,
   "metadata": {},
   "outputs": [],
   "source": [
    "test_x_total = np.asanyarray(test_x_total, np.float32)"
   ]
  },
  {
   "cell_type": "code",
   "execution_count": 94,
   "metadata": {},
   "outputs": [],
   "source": [
    "test_y_cat = np_utils.to_categorical(test_y_total, 5)"
   ]
  },
  {
   "cell_type": "code",
   "execution_count": 95,
   "metadata": {},
   "outputs": [
    {
     "name": "stdout",
     "output_type": "stream",
     "text": [
      "53/53 [==============================] - 6s 110ms/step - loss: 2.5978 - accuracy: 0.7337\n"
     ]
    },
    {
     "data": {
      "text/plain": [
       "[2.5978455543518066, 0.7336504459381104]"
      ]
     },
     "execution_count": 95,
     "metadata": {},
     "output_type": "execute_result"
    }
   ],
   "source": [
    "model.evaluate(test_x_total,test_y_cat)"
   ]
  },
  {
   "cell_type": "code",
   "execution_count": null,
   "metadata": {},
   "outputs": [
    {
     "name": "stdout",
     "output_type": "stream",
     "text": [
      "37/37 [==============================] - 5s 101ms/step\n"
     ]
    }
   ],
   "source": [
    "pred_y_total = model.predict(test_x_total)"
   ]
  },
  {
   "cell_type": "code",
   "execution_count": null,
   "metadata": {},
   "outputs": [],
   "source": [
    "pred_y_total=np.argmax(pred_y_total, axis=1)\n"
   ]
  },
  {
   "cell_type": "code",
   "execution_count": null,
   "metadata": {},
   "outputs": [
    {
     "name": "stdout",
     "output_type": "stream",
     "text": [
      "               precision    recall  f1-score   support\n",
      "\n",
      "   Alex Brush       0.89      0.94      0.92       215\n",
      "    Open Sans       0.86      0.72      0.78       210\n",
      "    Sansation       0.81      0.85      0.83       254\n",
      "Titillium Web       0.87      0.81      0.84       254\n",
      "  Ubuntu Mono       0.83      0.93      0.88       230\n",
      "\n",
      "     accuracy                           0.85      1163\n",
      "    macro avg       0.85      0.85      0.85      1163\n",
      " weighted avg       0.85      0.85      0.85      1163\n",
      "\n"
     ]
    }
   ],
   "source": [
    "from sklearn.metrics import classification_report\n",
    "labels=['Alex Brush','Open Sans','Sansation','Titillium Web','Ubuntu Mono']\n",
    "print(classification_report(test_y_total, pred_y_total, target_names=labels))"
   ]
  },
  {
   "attachments": {},
   "cell_type": "markdown",
   "metadata": {},
   "source": [
    "Check with flow from test directory"
   ]
  },
  {
   "cell_type": "code",
   "execution_count": 63,
   "metadata": {},
   "outputs": [
    {
     "name": "stdout",
     "output_type": "stream",
     "text": [
      "Found 1682 images belonging to 5 classes.\n"
     ]
    }
   ],
   "source": [
    "dg =  ImageDataGenerator(\n",
    "     rescale=1/255, dtype='float32'\n",
    "     )\n",
    "t_dir = dg.flow_from_directory('test_set', shuffle=False,target_size=(utils.SIZE,utils.SIZE))"
   ]
  },
  {
   "cell_type": "code",
   "execution_count": 64,
   "metadata": {},
   "outputs": [
    {
     "name": "stdout",
     "output_type": "stream",
     "text": [
      "53/53 [==============================] - 7s 108ms/step - loss: 0.9044 - accuracy: 0.7420\n"
     ]
    },
    {
     "data": {
      "text/plain": [
       "[0.9043951630592346, 0.7419738173484802]"
      ]
     },
     "execution_count": 64,
     "metadata": {},
     "output_type": "execute_result"
    }
   ],
   "source": [
    "model.evaluate(t_dir)"
   ]
  },
  {
   "cell_type": "code",
   "execution_count": null,
   "metadata": {},
   "outputs": [
    {
     "name": "stdout",
     "output_type": "stream",
     "text": [
      "1/1 [==============================] - 0s 104ms/step\n"
     ]
    }
   ],
   "source": [
    "r = model.predict(t_dir)"
   ]
  },
  {
   "cell_type": "code",
   "execution_count": null,
   "metadata": {},
   "outputs": [],
   "source": [
    "y_p=np.argmax(r, axis=1)"
   ]
  },
  {
   "cell_type": "code",
   "execution_count": null,
   "metadata": {},
   "outputs": [
    {
     "ename": "ValueError",
     "evalue": "Found input variables with inconsistent numbers of samples: [13, 8]",
     "output_type": "error",
     "traceback": [
      "\u001b[1;31m---------------------------------------------------------------------------\u001b[0m",
      "\u001b[1;31mValueError\u001b[0m                                Traceback (most recent call last)",
      "Cell \u001b[1;32mIn[470], line 1\u001b[0m\n\u001b[1;32m----> 1\u001b[0m \u001b[39mprint\u001b[39m(classification_report(y_p, t\u001b[39m.\u001b[39;49mclasses, target_names\u001b[39m=\u001b[39;49mlabels))\n",
      "File \u001b[1;32mc:\\Users\\simon\\anaconda3\\envs\\tf_gpu\\lib\\site-packages\\sklearn\\metrics\\_classification.py:2310\u001b[0m, in \u001b[0;36mclassification_report\u001b[1;34m(y_true, y_pred, labels, target_names, sample_weight, digits, output_dict, zero_division)\u001b[0m\n\u001b[0;32m   2195\u001b[0m \u001b[39mdef\u001b[39;00m \u001b[39mclassification_report\u001b[39m(\n\u001b[0;32m   2196\u001b[0m     y_true,\n\u001b[0;32m   2197\u001b[0m     y_pred,\n\u001b[1;32m   (...)\u001b[0m\n\u001b[0;32m   2204\u001b[0m     zero_division\u001b[39m=\u001b[39m\u001b[39m\"\u001b[39m\u001b[39mwarn\u001b[39m\u001b[39m\"\u001b[39m,\n\u001b[0;32m   2205\u001b[0m ):\n\u001b[0;32m   2206\u001b[0m \u001b[39m    \u001b[39m\u001b[39m\"\"\"Build a text report showing the main classification metrics.\u001b[39;00m\n\u001b[0;32m   2207\u001b[0m \n\u001b[0;32m   2208\u001b[0m \u001b[39m    Read more in the :ref:`User Guide <classification_report>`.\u001b[39;00m\n\u001b[1;32m   (...)\u001b[0m\n\u001b[0;32m   2307\u001b[0m \u001b[39m    <BLANKLINE>\u001b[39;00m\n\u001b[0;32m   2308\u001b[0m \u001b[39m    \"\"\"\u001b[39;00m\n\u001b[1;32m-> 2310\u001b[0m     y_type, y_true, y_pred \u001b[39m=\u001b[39m _check_targets(y_true, y_pred)\n\u001b[0;32m   2312\u001b[0m     \u001b[39mif\u001b[39;00m labels \u001b[39mis\u001b[39;00m \u001b[39mNone\u001b[39;00m:\n\u001b[0;32m   2313\u001b[0m         labels \u001b[39m=\u001b[39m unique_labels(y_true, y_pred)\n",
      "File \u001b[1;32mc:\\Users\\simon\\anaconda3\\envs\\tf_gpu\\lib\\site-packages\\sklearn\\metrics\\_classification.py:86\u001b[0m, in \u001b[0;36m_check_targets\u001b[1;34m(y_true, y_pred)\u001b[0m\n\u001b[0;32m     59\u001b[0m \u001b[39mdef\u001b[39;00m \u001b[39m_check_targets\u001b[39m(y_true, y_pred):\n\u001b[0;32m     60\u001b[0m \u001b[39m    \u001b[39m\u001b[39m\"\"\"Check that y_true and y_pred belong to the same classification task.\u001b[39;00m\n\u001b[0;32m     61\u001b[0m \n\u001b[0;32m     62\u001b[0m \u001b[39m    This converts multiclass or binary types to a common shape, and raises a\u001b[39;00m\n\u001b[1;32m   (...)\u001b[0m\n\u001b[0;32m     84\u001b[0m \u001b[39m    y_pred : array or indicator matrix\u001b[39;00m\n\u001b[0;32m     85\u001b[0m \u001b[39m    \"\"\"\u001b[39;00m\n\u001b[1;32m---> 86\u001b[0m     check_consistent_length(y_true, y_pred)\n\u001b[0;32m     87\u001b[0m     type_true \u001b[39m=\u001b[39m type_of_target(y_true, input_name\u001b[39m=\u001b[39m\u001b[39m\"\u001b[39m\u001b[39my_true\u001b[39m\u001b[39m\"\u001b[39m)\n\u001b[0;32m     88\u001b[0m     type_pred \u001b[39m=\u001b[39m type_of_target(y_pred, input_name\u001b[39m=\u001b[39m\u001b[39m\"\u001b[39m\u001b[39my_pred\u001b[39m\u001b[39m\"\u001b[39m)\n",
      "File \u001b[1;32mc:\\Users\\simon\\anaconda3\\envs\\tf_gpu\\lib\\site-packages\\sklearn\\utils\\validation.py:397\u001b[0m, in \u001b[0;36mcheck_consistent_length\u001b[1;34m(*arrays)\u001b[0m\n\u001b[0;32m    395\u001b[0m uniques \u001b[39m=\u001b[39m np\u001b[39m.\u001b[39munique(lengths)\n\u001b[0;32m    396\u001b[0m \u001b[39mif\u001b[39;00m \u001b[39mlen\u001b[39m(uniques) \u001b[39m>\u001b[39m \u001b[39m1\u001b[39m:\n\u001b[1;32m--> 397\u001b[0m     \u001b[39mraise\u001b[39;00m \u001b[39mValueError\u001b[39;00m(\n\u001b[0;32m    398\u001b[0m         \u001b[39m\"\u001b[39m\u001b[39mFound input variables with inconsistent numbers of samples: \u001b[39m\u001b[39m%r\u001b[39;00m\u001b[39m\"\u001b[39m\n\u001b[0;32m    399\u001b[0m         \u001b[39m%\u001b[39m [\u001b[39mint\u001b[39m(l) \u001b[39mfor\u001b[39;00m l \u001b[39min\u001b[39;00m lengths]\n\u001b[0;32m    400\u001b[0m     )\n",
      "\u001b[1;31mValueError\u001b[0m: Found input variables with inconsistent numbers of samples: [13, 8]"
     ]
    }
   ],
   "source": [
    "print(classification_report(y_p, t.classes, target_names=labels))"
   ]
  },
  {
   "attachments": {},
   "cell_type": "markdown",
   "metadata": {},
   "source": [
    "Check with flow from one big array"
   ]
  },
  {
   "cell_type": "code",
   "execution_count": null,
   "metadata": {},
   "outputs": [],
   "source": [
    "test_y_cat = np_utils.to_categorical(test_y_total, 5)"
   ]
  },
  {
   "cell_type": "code",
   "execution_count": null,
   "metadata": {},
   "outputs": [],
   "source": [
    "dg2 =  ImageDataGenerator(\n",
    "     dtype='float32'\n",
    "     )\n",
    "t2_arr = dg2.flow(test_x_total,test_y_cat, shuffle=False,target_size=(SIZE,SIZE))"
   ]
  },
  {
   "cell_type": "code",
   "execution_count": null,
   "metadata": {},
   "outputs": [
    {
     "name": "stdout",
     "output_type": "stream",
     "text": [
      "1/1 [==============================] - 0s 212ms/step - loss: 1.7281 - accuracy: 0.2500\n"
     ]
    }
   ],
   "source": [
    "score = model.evaluate(t2_arr)"
   ]
  },
  {
   "cell_type": "code",
   "execution_count": null,
   "metadata": {},
   "outputs": [
    {
     "name": "stdout",
     "output_type": "stream",
     "text": [
      "1/1 [==============================] - 0s 73ms/step\n"
     ]
    }
   ],
   "source": [
    "p2 = model.predict(t2_arr)"
   ]
  },
  {
   "cell_type": "code",
   "execution_count": null,
   "metadata": {},
   "outputs": [],
   "source": [
    "# get the class with highest probability for each sample\n",
    "y_p2 = np.argmax(p2, axis=-1)"
   ]
  },
  {
   "cell_type": "code",
   "execution_count": null,
   "metadata": {},
   "outputs": [
    {
     "name": "stdout",
     "output_type": "stream",
     "text": [
      "               precision    recall  f1-score   support\n",
      "\n",
      "   Alex Brush       0.00      0.00      0.00         3\n",
      "    Open Sans       0.00      0.00      0.00         1\n",
      "    Sansation       0.40      0.40      0.40         5\n",
      "Titillium Web       0.38      1.00      0.55         3\n",
      "  Ubuntu Mono       0.00      0.00      0.00         1\n",
      "\n",
      "     accuracy                           0.38        13\n",
      "    macro avg       0.15      0.28      0.19        13\n",
      " weighted avg       0.24      0.38      0.28        13\n",
      "\n"
     ]
    },
    {
     "name": "stderr",
     "output_type": "stream",
     "text": [
      "c:\\Users\\simon\\anaconda3\\envs\\tf_gpu\\lib\\site-packages\\sklearn\\metrics\\_classification.py:1344: UndefinedMetricWarning: Precision and F-score are ill-defined and being set to 0.0 in labels with no predicted samples. Use `zero_division` parameter to control this behavior.\n",
      "  _warn_prf(average, modifier, msg_start, len(result))\n",
      "c:\\Users\\simon\\anaconda3\\envs\\tf_gpu\\lib\\site-packages\\sklearn\\metrics\\_classification.py:1344: UndefinedMetricWarning: Precision and F-score are ill-defined and being set to 0.0 in labels with no predicted samples. Use `zero_division` parameter to control this behavior.\n",
      "  _warn_prf(average, modifier, msg_start, len(result))\n",
      "c:\\Users\\simon\\anaconda3\\envs\\tf_gpu\\lib\\site-packages\\sklearn\\metrics\\_classification.py:1344: UndefinedMetricWarning: Precision and F-score are ill-defined and being set to 0.0 in labels with no predicted samples. Use `zero_division` parameter to control this behavior.\n",
      "  _warn_prf(average, modifier, msg_start, len(result))\n"
     ]
    }
   ],
   "source": [
    "print(classification_report(y_p2, test_y_total, target_names=labels))"
   ]
  },
  {
   "attachments": {},
   "cell_type": "markdown",
   "metadata": {},
   "source": [
    "Cehck dir from array"
   ]
  },
  {
   "cell_type": "code",
   "execution_count": null,
   "metadata": {},
   "outputs": [],
   "source": [
    "path=('test_set/')\n",
    "create_dirs(path)\n",
    "for i,imi in enumerate(test_x_total):\n",
    "    tf.keras.utils.save_img(path+'/'+num_to_font(test_y_total[i]).decode('UTF-8')+'/'+str(i)+'.jpg',imi)"
   ]
  },
  {
   "cell_type": "code",
   "execution_count": null,
   "metadata": {},
   "outputs": [
    {
     "name": "stdout",
     "output_type": "stream",
     "text": [
      "Found 8 images belonging to 5 classes.\n"
     ]
    }
   ],
   "source": [
    "dg3 =  ImageDataGenerator(\n",
    "     rescale=1/255, dtype='float32'\n",
    "     )\n",
    "t3 = dg3.flow_from_directory('test_set/', shuffle=False, target_size=(SIZE,SIZE))"
   ]
  },
  {
   "cell_type": "code",
   "execution_count": null,
   "metadata": {},
   "outputs": [
    {
     "name": "stdout",
     "output_type": "stream",
     "text": [
      "1/1 [==============================] - 0s 300ms/step - loss: 1.0444 - accuracy: 0.5000\n"
     ]
    },
    {
     "data": {
      "text/plain": [
       "[1.0443546772003174, 0.5]"
      ]
     },
     "execution_count": 497,
     "metadata": {},
     "output_type": "execute_result"
    }
   ],
   "source": [
    "model.evaluate(t3)"
   ]
  }
 ],
 "metadata": {
  "kernelspec": {
   "display_name": "tf_gpu",
   "language": "python",
   "name": "python3"
  },
  "language_info": {
   "codemirror_mode": {
    "name": "ipython",
    "version": 3
   },
   "file_extension": ".py",
   "mimetype": "text/x-python",
   "name": "python",
   "nbconvert_exporter": "python",
   "pygments_lexer": "ipython3",
   "version": "3.9.16"
  },
  "vscode": {
   "interpreter": {
    "hash": "017718ff8815c2e28200b0ec15712f9c3f1df2ede3aa8445637a6e1eb80e7347"
   }
  }
 },
 "nbformat": 4,
 "nbformat_minor": 4
}
