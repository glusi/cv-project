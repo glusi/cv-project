{
 "cells": [
  {
   "cell_type": "markdown",
   "metadata": {
    "tags": []
   },
   "source": [
    "# Computer Vision - Project\n",
    "imports"
   ]
  },
  {
   "cell_type": "code",
   "execution_count": 1,
   "metadata": {
    "tags": []
   },
   "outputs": [],
   "source": [
    "import numpy as np\n",
    "import cv2\n",
    "import matplotlib.pyplot as plt\n",
    "import h5py\n",
    "import requests\n",
    "from sklearn.model_selection import train_test_split\n",
    "from keras.models import Sequential\n",
    "from keras.layers import Dense, Dropout, Activation, Flatten\n",
    "from keras.layers import Convolution2D, MaxPooling2D\n",
    "from keras.utils import np_utils\n",
    "import tensorflow as tf\n",
    "import h5py, requests, os\n",
    "import matplotlib.patches as patches\n",
    "from tensorflow.compat.v1 import ConfigProto\n",
    "from tensorflow.compat.v1 import InteractiveSession\n",
    "config = ConfigProto()\n",
    "config.gpu_options.allow_growth = True\n",
    "session = InteractiveSession(config=config)\n",
    "from keras.utils import plot_model\n",
    "from keras.models import Model\n",
    "from keras.layers import Input\n",
    "from keras.layers import Dense\n",
    "from keras.layers import Flatten, BatchNormalization, ZeroPadding2D, GlobalMaxPooling2D\n",
    "from keras.layers.convolutional import Conv2D\n",
    "from keras.layers.pooling import MaxPooling2D\n",
    "from keras.layers import LSTM\n",
    "from keras.layers import Resizing\n",
    "from tqdm import tqdm"
   ]
  },
  {
   "cell_type": "code",
   "execution_count": 2,
   "metadata": {},
   "outputs": [],
   "source": [
    "# IMG_SIZE = (64, 64)\n",
    "# IMG_SHAPE = IMG_SIZE + (3,)\n",
    "# base_model = tf.keras.applications.resnet(input_shape=IMG_SHAPE,\n",
    "#                                                include_top=False,\n",
    "#                                                weights='imagenet')\n",
    "# base_model.trainable = False"
   ]
  },
  {
   "cell_type": "markdown",
   "metadata": {},
   "source": [
    "Constants"
   ]
  },
  {
   "cell_type": "code",
   "execution_count": 3,
   "metadata": {},
   "outputs": [],
   "source": [
    "#ZIP_PATH = \"https://drive.google.com/drive/folders/1jzHYpTwywUYA53nMGHVROSuVO14hEueq?usp=sharing/\"\n",
    "FILE_NAME =\"SynthText_train.h5\"\n",
    "gpus = tf.config.experimental.list_physical_devices('GPU')\n",
    "for gpu in gpus:\n",
    "  tf.config.experimental.set_memory_growth(gpu, True)\n",
    "tf.keras.backend.clear_session()\n",
    "SIZE=227\n"
   ]
  },
  {
   "cell_type": "code",
   "execution_count": 4,
   "metadata": {},
   "outputs": [],
   "source": [
    "def sort_points(points, center):\n",
    "    # calculate the angle of each point from the center point\n",
    "    angles = np.arctan2(points[:, 1] - center[1], points[:, 0] - center[0])\n",
    "    # sort the points by angle\n",
    "    sorted_points = points[np.argsort(angles)]\n",
    "    return sorted_points"
   ]
  },
  {
   "cell_type": "code",
   "execution_count": 5,
   "metadata": {},
   "outputs": [],
   "source": [
    "def draw_training_curve(history):\n",
    "\t\"\"\"\n",
    "\tDraw training curve\n",
    "\tParameters:\n",
    "\t\thistory - contains loss and accuracy from training\n",
    "\tReturns:\n",
    "\t\tNone\n",
    "\t\"\"\"\n",
    "\tplt.figure(1)\n",
    "\n",
    "\t# History for accuracy\n",
    "\tplt.subplot(211)\n",
    "\tplt.plot(history.history['accuracy'])\n",
    "\t# plt.plot(history.history['val_accuracy'])\n",
    "\tplt.title('model accuracy')\n",
    "\tplt.ylabel('accuracy')\n",
    "\tplt.xlabel('epoch')\n",
    "\tplt.legend(['train', 'test'], loc='upper left')\n",
    "\n",
    "\t# History for loss\n",
    "\tplt.subplot(212)\n",
    "\tplt.plot(history.history['loss'])\n",
    "\t# plt.plot(history.history['val_loss'])\n",
    "\tplt.title('model loss')\n",
    "\tplt.ylabel('loss')\n",
    "\tplt.xlabel('epoch')\n",
    "\tplt.legend(['train', 'test'], loc='upper left')\n",
    "\n",
    "\tplt.show()"
   ]
  },
  {
   "cell_type": "code",
   "execution_count": 6,
   "metadata": {},
   "outputs": [],
   "source": [
    "def draw_points(image, points, color=(255, 0, 0), radius=3):\n",
    "    # create a copy of the image\n",
    "    img = image.copy()\n",
    "    # iterate over the points and draw them on the image\n",
    "    for point in points:\n",
    "        cv2.circle(img, tuple(map(int, point)), radius, color, -1)\n",
    "    return img\n"
   ]
  },
  {
   "cell_type": "code",
   "execution_count": 7,
   "metadata": {},
   "outputs": [],
   "source": [
    "def get_bb(img, bbs, indx):\n",
    "    x1 = int(bbs[0,0,indx])\n",
    "    y1 = int(bbs[1,0,indx])\n",
    "    x2 = int(bbs[0,1,indx])\n",
    "    y2 = int(bbs[1,1,indx])\n",
    "    x3 = int(bbs[0,2,indx])\n",
    "    y3 = int(bbs[1,2,indx])\n",
    "    x4 = int(bbs[0,3,indx])\n",
    "    y4 = int(bbs[1,3,indx])\n",
    "    # calculate bounding rectangle\n",
    "    top_left_x = max(0, min([x1,x2,x3,x4]))\n",
    "    top_left_y = max(0, min([y1,y2,y3,y4]))\n",
    "    bot_right_x = max(0, max([x1,x2,x3,x4]))\n",
    "    bot_right_y = max(0, max([y1,y2,y3,y4]))\n",
    "    # points = np.float32([[x1, y1], [x2, y2], [x3, y3], [x4, y4]])\n",
    "    \n",
    "    # create an empty image with the same shape as the input image\n",
    "    # mask = np.zeros_like(img[:,:,0])\n",
    "    # create a list of the bounding box points in the correct format\n",
    "    # bounding_box = np.array([points], dtype=np.int32)\n",
    "    # fill the area inside the bounding box with white\n",
    "    # cv2.fillPoly(mask, bounding_box, 255)\n",
    "    # apply the mask to the image\n",
    "    ####res = cv2.bitwise_and(img, mask)\n",
    "    # try1 = np.array(np.where(mask == 255, 255, 0), dtype=np.uint8)\n",
    "    # print(x)\n",
    "    # inv_mask = cv2.bitwise_not(mask)\n",
    "    # res2 = cv2.bitwise_and(img, inv_mask)\n",
    "    # bb2 = np.int32([[top_left_x, bot_right_y], [bot_right_x, bot_right_y],[bot_right_x,top_left_y], [top_left_x,top_left_y]])\n",
    "    # print(bb2)\n",
    "    # mask2 = np.zeros_like(img)\n",
    "    # # bb2 = np.array(frame, dtype=np.int32)\n",
    "    # cv2.fillPoly(mask2, bb2, (255, 255, 255))\n",
    "    # mask = mask[top_left_y:bot_right_y+1, top_left_x:bot_right_x+1]\n",
    "    res = img[top_left_y:bot_right_y+1, top_left_x:bot_right_x+1]\n",
    "\n",
    "    #res = img[top_left_y:bot_right_y+1, top_left_x:bot_right_x+1]\n",
    "    #flipping\n",
    "    \"\"\"\"if(x2 < x1):\n",
    "        res = cv2.flip(res, 1)\n",
    "    if(y2 < y1):\n",
    "        res = cv2.flip(res, 0)\n",
    "    plt.imshow(mask)\n",
    "    plt.show()\n",
    "    print(mask.shape)\"\"\"\n",
    "    return res"
   ]
  },
  {
   "cell_type": "code",
   "execution_count": 8,
   "metadata": {},
   "outputs": [],
   "source": [
    "def font_to_num(font):\n",
    "    if font == b'Alex Brush':\n",
    "        return 0\n",
    "    elif font == b'Titillium Web':\n",
    "        return 1\n",
    "    elif font == b'Sansation':\n",
    "        return 2\n",
    "    elif font == b'Open Sans':\n",
    "        return 3\n",
    "    else:\n",
    "        return 4"
   ]
  },
  {
   "cell_type": "code",
   "execution_count": 9,
   "metadata": {},
   "outputs": [],
   "source": [
    "def num_to_font(font):\n",
    "    if font == 0:\n",
    "        return b'Alex Brush'\n",
    "    elif font == 1:\n",
    "        return b'Titillium Web'\n",
    "    elif font == 2:\n",
    "        return b'Sansation'\n",
    "    elif font == 3:\n",
    "        return b'Open Sans'\n",
    "    else:\n",
    "        return b'Ubuntu Mono'"
   ]
  },
  {
   "cell_type": "code",
   "execution_count": 10,
   "metadata": {},
   "outputs": [],
   "source": [
    "def print_label(set, index):\n",
    "    line = set[index]\n",
    "    max = np.argmax(line)\n",
    "    print(num_to_font(max))"
   ]
  },
  {
   "cell_type": "code",
   "execution_count": 11,
   "metadata": {},
   "outputs": [],
   "source": [
    "def print_font(max):\n",
    "     print(num_to_font(max))"
   ]
  },
  {
   "cell_type": "code",
   "execution_count": 12,
   "metadata": {},
   "outputs": [],
   "source": [
    "def print_photo_from_set(set_x, set_y, index, font):\n",
    "    plt.imshow(set_x[index], cmap='gray')\n",
    "    plt.show()\n",
    "    print_font(font)"
   ]
  },
  {
   "cell_type": "code",
   "execution_count": 13,
   "metadata": {},
   "outputs": [],
   "source": [
    "def prepare_img(img, bbs, index, size):\n",
    "    cropped = get_bb(img, bbs, index)\n",
    "    # _, cropped = cv2.threshold(cropped,127,255,cv2.THRESH_TRIANGLE)\n",
    "    # print(cropped.shape)\n",
    "    cropped = tf.image.resize(cropped, (size, size), method=tf.image.ResizeMethod.NEAREST_NEIGHBOR)\n",
    "    # cropped = tf.image.rgb_to_grayscale(cropped)\n",
    "    # # print(cropped.shape)\n",
    "    cropped = tf.image.convert_image_dtype(cropped, tf.float32)\n",
    "    # plt.imshow(cropped, cmap='gray')\n",
    "    # plt.show()\n",
    "    return cropped"
   ]
  },
  {
   "cell_type": "code",
   "execution_count": 14,
   "metadata": {},
   "outputs": [],
   "source": [
    "from pathlib import Path\n",
    "def create_dirs():\n",
    "    Path('main_directory').mkdir(parents=True, exist_ok=True)\n",
    "    Path('main_directory/Alex Brush').mkdir(parents=True, exist_ok=True)\n",
    "    Path('main_directory/Titillium Web').mkdir(parents=True, exist_ok=True)\n",
    "    Path('main_directory/Sansation').mkdir(parents=True, exist_ok=True)\n",
    "    Path('main_directory/Open Sans').mkdir(parents=True, exist_ok=True)\n",
    "    Path('main_directory/Ubuntu Mono').mkdir(parents=True, exist_ok=True)"
   ]
  },
  {
   "cell_type": "code",
   "execution_count": 15,
   "metadata": {},
   "outputs": [],
   "source": [
    "def get_data_set(size: int):\n",
    "    db = h5py.File(FILE_NAME, 'r')\n",
    "    create_dirs()\n",
    "    im_names = list(db['data'].keys())\n",
    "    train_x = []\n",
    "    train_y = []\n",
    "    num = 0\n",
    "    for i in tqdm(range(0, len(im_names)-1)):\n",
    "        im = im_names[i]\n",
    "        img  = db['data'][im][:]\n",
    "        fonts = db['data'][im].attrs['font']\n",
    "        txts = db['data'][im].attrs['txt']\n",
    "        charBBs = db['data'][im].attrs['charBB']\n",
    "        wordBBs = db['data'][im].attrs['wordBB']\n",
    "        font_indx = 0 \n",
    "        char_indx = 0\n",
    "        # print(im)\n",
    "        for j in range(0, len(txts)):\n",
    "            cropped = prepare_img(img, wordBBs, j, size)\n",
    "            path = 'main_directory/'+fonts[font_indx].decode('UTF-8')+'/'+im+'_'+str(num)+'.jpg' \n",
    "            # print(path)\n",
    "            tf.keras.utils.save_img(path,cropped)\n",
    "            num+=1\n",
    "            # train_x.append(cropped)\n",
    "            # train_y.append(font_to_num(fonts[font_indx]))\n",
    "            \n",
    "            # plt.imshow(cropped, cmap='gray')\n",
    "            # plt.show()\n",
    "            # print(fonts[font_indx])\n",
    "            for k in range(0, len(txts[j])):\n",
    "                cropped = prepare_img(img, charBBs, char_indx, size)\n",
    "                path = 'main_directory/'+fonts[font_indx].decode('UTF-8')+'/'+im+'_'+str(num)+'.jpg'\n",
    "                # print(path)\n",
    "                tf.keras.utils.save_img(path,cropped)\n",
    "                num+=1\n",
    "                # train_x.append(cropped)\n",
    "                # train_y.append(font_to_num(fonts[font_indx]))\n",
    "                char_indx+=1\n",
    "                # plt.imshow(cropped, cmap='gray')\n",
    "                # plt.show()\n",
    "                # print(fonts[font_indx])\n",
    "            font_indx += len(txts[j])\n",
    "    print(num)\n",
    "    # return train_x, train_y"
   ]
  },
  {
   "cell_type": "code",
   "execution_count": 16,
   "metadata": {},
   "outputs": [],
   "source": [
    "from download_h5py_db import download_h5py_db\n",
    "if not Path(\"main_directory\").exists():\n",
    "    download_h5py_db()\n",
    "    get_data_set(SIZE)\n",
    "# train_x, train_y = "
   ]
  },
  {
   "cell_type": "code",
   "execution_count": 17,
   "metadata": {},
   "outputs": [],
   "source": [
    "from keras.preprocessing.image import ImageDataGenerator\n",
    "def data_augmentation():\n",
    "    datagen =  ImageDataGenerator(\n",
    "        horizontal_flip=True, rotation_range=10, fill_mode='nearest',# channel_shift_range=0.9,\n",
    "        # shear_range=10, vertical_flip=False, , brightness_range=(0.2, 0.8),\n",
    "     rescale=1/255,dtype='float32',validation_split=0.3)\n",
    "    # Path('augmented').mkdir(exist_ok=True)\n",
    "    it = datagen.flow_from_directory('main_directory', batch_size=18, subset='training', class_mode='categorical',\n",
    "    #save_to_dir='augmented',\n",
    "     shuffle=True)\n",
    "    val_it = datagen.flow_from_directory('main_directory', batch_size=18, subset='validation', class_mode='categorical',\n",
    "    #save_to_dir='augmented',\n",
    "     shuffle=True)\n",
    "    return it, val_it, datagen"
   ]
  },
  {
   "cell_type": "code",
   "execution_count": 18,
   "metadata": {},
   "outputs": [
    {
     "name": "stdout",
     "output_type": "stream",
     "text": [
      "Found 26534 images belonging to 5 classes.\n",
      "Found 11368 images belonging to 5 classes.\n"
     ]
    }
   ],
   "source": [
    "it, val_it, datagen = data_augmentation()"
   ]
  },
  {
   "cell_type": "code",
   "execution_count": 19,
   "metadata": {},
   "outputs": [],
   "source": [
    "# from tensorflow.keras.regularizers import l2\n",
    "\n",
    "# Regularizer = l2(0.007)\n",
    "\n",
    "# model = Sequential()\n",
    "# model.add(Conv2D(96, kernel_size=(11,11), strides= 4,\n",
    "#                         padding= 'valid', activation= 'relu',\n",
    "#                         input_shape= (SIZE,SIZE,3),\n",
    "#                         kernel_initializer= 'he_normal'))\n",
    "# model.add(MaxPooling2D(pool_size=(3,3), strides= (2,2),\n",
    "#                         padding= 'valid', data_format= None))\n",
    "\n",
    "# model.add(Conv2D(256, kernel_size=(5,5), strides= 1,\n",
    "#                 padding= 'same', activation= 'relu',\n",
    "#                 kernel_initializer= 'he_normal'))\n",
    "# model.add(MaxPooling2D(pool_size=(3,3), strides= (2,2),\n",
    "#                         padding= 'valid', data_format= None)) \n",
    "\n",
    "# model.add(Conv2D(384, kernel_size=(3,3), strides= 1,\n",
    "#                 padding= 'same', activation= 'relu',\n",
    "#                 kernel_initializer= 'he_normal'))\n",
    "\n",
    "# model.add(Conv2D(384, kernel_size=(3,3), strides= 1,\n",
    "#                 padding= 'same', activation= 'relu',\n",
    "#                 kernel_initializer= 'he_normal'))\n",
    "\n",
    "# model.add(Conv2D(256, kernel_size=(3,3), strides= 1,\n",
    "#                         padding= 'same', activation= 'relu',\n",
    "#                         kernel_initializer= 'he_normal'))\n",
    "\n",
    "# model.add(Dropout(0.5))\n",
    "\n",
    "# model.add(MaxPooling2D(pool_size=(3,3), strides= (2,2),\n",
    "#                         padding= 'valid', data_format= None))\n",
    "\n",
    "# model.add(Flatten())\n",
    "# model.add(Dense(4096, activation= 'relu'))\n",
    "# model.add(Dropout(0.5))\n",
    "# model.add(Dense(4096, activation= 'relu'))\n",
    "# model.add(Dense(1000, activation= 'relu', activity_regularizer=Regularizer, kernel_regularizer=Regularizer))\n",
    "# model.add(Dense(5, activation= 'softmax', activity_regularizer=Regularizer, kernel_regularizer=Regularizer))\n",
    "\n",
    "# model.compile(optimizer= tf.keras.optimizers.Adam(learning_rate=5e-4, amsgrad=True, epsilon=0.1),\n",
    "#             loss='categorical_crossentropy',\n",
    "#             metrics=['accuracy'])"
   ]
  },
  {
   "cell_type": "code",
   "execution_count": 20,
   "metadata": {},
   "outputs": [],
   "source": [
    "# from tensorflow.keras.regularizers import l2\n",
    "# # Initialize model\n",
    "# alexnet = Sequential()\n",
    "# l2_reg = 0\n",
    "\n",
    "# # Layer 1\n",
    "# alexnet.add(Conv2D(96, (11, 11), input_shape=(227, 227, 3),strides= 4,\n",
    "# \tpadding='same', kernel_regularizer=l2(l2_reg)))\n",
    "# alexnet.add(BatchNormalization())\n",
    "# alexnet.add(Activation('relu'))\n",
    "# alexnet.add(MaxPooling2D(pool_size=(3, 3),strides= 2,))\n",
    "\n",
    "# # Layer 2\n",
    "# alexnet.add(Conv2D(256, (5, 5), padding=(2,2)))\n",
    "# alexnet.add(BatchNormalization())\n",
    "# alexnet.add(Activation('relu'))\n",
    "# alexnet.add(MaxPooling2D(pool_size=(3, 3),strides= 2,))\n",
    "\n",
    "# # Layer 3\n",
    "# alexnet.add(Conv2D(384, (3, 3), padding='1'))\n",
    "# alexnet.add(BatchNormalization())\n",
    "# alexnet.add(Activation('relu'))\n",
    "\n",
    "# # Layer 4\n",
    "# alexnet.add(Conv2D(384, (3, 3), padding='1'))\n",
    "# alexnet.add(BatchNormalization())\n",
    "# alexnet.add(Activation('relu'))\n",
    "\n",
    "# # Layer 5\n",
    "# alexnet.add(Conv2D(384, (3, 3), padding='1'))\n",
    "# alexnet.add(BatchNormalization())\n",
    "# alexnet.add(Activation('relu'))\n",
    "\n",
    "# # Layer 6\n",
    "# alexnet.add(Conv2D(256, (3, 3), padding='1'))\n",
    "# alexnet.add(BatchNormalization())\n",
    "# alexnet.add(Activation('relu'))\n",
    "# alexnet.add(MaxPooling2D(pool_size=(3, 3),strides= 2,))\n",
    "\n",
    "# # Layer 7\n",
    "# alexnet.add(Flatten())\n",
    "# alexnet.add(Dense(4096))\n",
    "# alexnet.add(BatchNormalization())\n",
    "# alexnet.add(Activation('relu'))\n",
    "# alexnet.add(Dropout(0.5))\n",
    "\n",
    "# # Layer 8\n",
    "# alexnet.add(Dense(4096))\n",
    "# alexnet.add(BatchNormalization())\n",
    "# alexnet.add(Activation('relu'))\n",
    "# alexnet.add(Dropout(0.5))\n",
    "\n",
    "# alexnet.add(Dense(5))\n",
    "# alexnet.add(BatchNormalization())\n",
    "# alexnet.add(Activation('softmax'))\t\n",
    "\n",
    "# model = alexnet\n",
    "# model.compile(loss='categorical_crossentropy',\n",
    "# \t\toptimizer=tf.keras.optimizers.rmsprop(lr=0.0001, decay=1e-6),\n",
    "# \t\tmetrics=['accuracy'])"
   ]
  },
  {
   "cell_type": "code",
   "execution_count": 21,
   "metadata": {},
   "outputs": [],
   "source": [
    "from tensorflow.keras.applications.resnet50 import ResNet50\n",
    "from tensorflow.keras.layers import AveragePooling2D\n",
    "num_classes = 5\n",
    "input_size= SIZE\n",
    "\n",
    "baseModel = ResNet50(include_top=False, classes=num_classes,\n",
    "                         input_shape=(input_size, input_size, 3),\n",
    "                        weights='imagenet')\n",
    "headModel = baseModel.output\n",
    "headModel = AveragePooling2D(pool_size=(7, 7))(headModel)\n",
    "headModel = Flatten(name=\"flatten\")(headModel)\n",
    "headModel = Dense(256, activation=\"relu\")(headModel)\n",
    "headModel = Dropout(0.5)(headModel)\n",
    "headModel = Dense(num_classes, activation=\"softmax\")(headModel)\n",
    "model = Model(inputs=baseModel.input, outputs=headModel)\n",
    "# cfg = pretrained_model.get_config()\n",
    "# cfg['layers'][0]['config']['batch_input_shape'] = (None, input_size, input_size, 3)\n",
    "# resnet_model = Model.from_config(cfg)\n",
    "# for i, layer in enumerate(resnet_model.layers):\n",
    "#     # if i == 1:\n",
    "#     #     new_weights = pretrained_model.layers[i].get_weights()[0].sum(axis=2, keepdims=True)\n",
    "#     #     resnet_model.set_weights([new_weights])\n",
    "#     #     layer.trainable = False\n",
    "#     # else: \n",
    "#         layer.set_weights(pretrained_model.layers[i].get_weights())\n",
    "#         layer.trainable = False\n",
    "\n",
    "# x = GlobalMaxPooling2D()(resnet_model.output)\n",
    "# x = Dense(2048, activation='relu')(x)\n",
    "# x = Dense(2048, activation='relu')(x)\n",
    "# outp = Dense(num_classes, activation='softmax')(x)\n",
    "# model = Model(resnet_model.input, outp)        \n",
    "    \n",
    "model.compile(optimizer='adam', loss='binary_crossentropy', metrics=['accuracy'])"
   ]
  },
  {
   "cell_type": "code",
   "execution_count": 22,
   "metadata": {},
   "outputs": [],
   "source": [
    "def scheduler(epoch, lr):\n",
    "    # if epoch < 5:\n",
    "    #     return lr\n",
    "    # else:\n",
    "    return lr * 0.1 #tf.math.exp(-0.1)"
   ]
  },
  {
   "cell_type": "code",
   "execution_count": 23,
   "metadata": {},
   "outputs": [],
   "source": [
    "# callback = tf.keras.callbacks.LearningRateScheduler(scheduler)"
   ]
  },
  {
   "cell_type": "code",
   "execution_count": 24,
   "metadata": {},
   "outputs": [
    {
     "name": "stdout",
     "output_type": "stream",
     "text": [
      "Epoch 1/15\n",
      "1475/1475 [==============================] - 401s 265ms/step - loss: 0.4506 - accuracy: 0.3826\n",
      "Epoch 2/15\n",
      "1475/1475 [==============================] - 388s 263ms/step - loss: 0.3809 - accuracy: 0.4990\n",
      "Epoch 3/15\n",
      "1475/1475 [==============================] - 385s 261ms/step - loss: 0.3478 - accuracy: 0.5435\n",
      "Epoch 4/15\n",
      "1475/1475 [==============================] - 386s 262ms/step - loss: 0.3286 - accuracy: 0.5722\n",
      "Epoch 5/15\n",
      "1475/1475 [==============================] - 386s 261ms/step - loss: 0.3123 - accuracy: 0.5909\n",
      "Epoch 6/15\n",
      "1475/1475 [==============================] - 377s 255ms/step - loss: 0.3008 - accuracy: 0.6085\n",
      "Epoch 7/15\n",
      "1475/1475 [==============================] - 375s 254ms/step - loss: 0.2892 - accuracy: 0.6247\n",
      "Epoch 8/15\n",
      "1475/1475 [==============================] - 379s 257ms/step - loss: 0.2794 - accuracy: 0.6394\n",
      "Epoch 9/15\n",
      "1475/1475 [==============================] - 375s 254ms/step - loss: 0.2687 - accuracy: 0.6578\n",
      "Epoch 10/15\n",
      "1475/1475 [==============================] - 375s 254ms/step - loss: 0.2586 - accuracy: 0.6703\n",
      "Epoch 11/15\n",
      "1475/1475 [==============================] - 377s 256ms/step - loss: 0.2491 - accuracy: 0.6902\n",
      "Epoch 12/15\n",
      "1475/1475 [==============================] - 376s 255ms/step - loss: 0.2382 - accuracy: 0.7028\n",
      "Epoch 13/15\n",
      "1475/1475 [==============================] - 376s 255ms/step - loss: 0.2286 - accuracy: 0.7206\n",
      "Epoch 14/15\n",
      "1475/1475 [==============================] - 374s 253ms/step - loss: 0.2188 - accuracy: 0.7313\n",
      "Epoch 15/15\n",
      "1475/1475 [==============================] - 377s 255ms/step - loss: 0.2112 - accuracy: 0.7460\n"
     ]
    }
   ],
   "source": [
    "# model.fit(X_train, Y_train, batch_size=16, epochs=20, verbose=1)\n",
    "# datagen.fit(X_train)\n",
    "history = model.fit(it, epochs=15, verbose=1 , shuffle=True\n",
    "        #   ,callbacks=[callback]\n",
    "          )"
   ]
  },
  {
   "cell_type": "code",
   "execution_count": 25,
   "metadata": {},
   "outputs": [
    {
     "name": "stdout",
     "output_type": "stream",
     "text": [
      "632/632 [==============================] - 135s 212ms/step - loss: 0.2386 - accuracy: 0.7112\n"
     ]
    }
   ],
   "source": [
    "score = model.evaluate(val_it)"
   ]
  },
  {
   "cell_type": "code",
   "execution_count": 26,
   "metadata": {},
   "outputs": [
    {
     "name": "stdout",
     "output_type": "stream",
     "text": [
      "Test loss: 0.23860403895378113 / Test accuracy: 0.7112069129943848\n"
     ]
    }
   ],
   "source": [
    "print(f'Test loss: {score[0]} / Test accuracy: {score[1]}')"
   ]
  },
  {
   "attachments": {},
   "cell_type": "markdown",
   "metadata": {},
   "source": [
    "632/632 [==============================] - 161s 254ms/step - loss: 0.2479 - accuracy: 0.6977\n",
    "632/632 [==============================] - 53s 82ms/step - loss: 1.6858 - accuracy: 0.5157\n",
    "632/632 [==============================] - 150s 236ms/step - loss: 0.8984 - accuracy: 0.6251"
   ]
  },
  {
   "cell_type": "code",
   "execution_count": 27,
   "metadata": {},
   "outputs": [
    {
     "data": {
      "image/png": "[encoded data removed]",
      "text/plain": [
       "<Figure size 640x480 with 2 Axes>"
      ]
     },
     "metadata": {},
     "output_type": "display_data"
    }
   ],
   "source": [
    "draw_training_curve(history)"
   ]
  },
  {
   "cell_type": "code",
   "execution_count": 28,
   "metadata": {},
   "outputs": [],
   "source": [
    "predict = model.predict(val_it, verbose=0)"
   ]
  },
  {
   "cell_type": "code",
   "execution_count": null,
   "metadata": {},
   "outputs": [],
   "source": []
  }
 ],
 "metadata": {
  "kernelspec": {
   "display_name": "Python 3 (ipykernel)",
   "language": "python",
   "name": "python3"
  },
  "language_info": {
   "codemirror_mode": {
    "name": "ipython",
    "version": 3
   },
   "file_extension": ".py",
   "mimetype": "text/x-python",
   "name": "python",
   "nbconvert_exporter": "python",
   "pygments_lexer": "ipython3",
   "version": "3.9.16"
  },
  "vscode": {
   "interpreter": {
    "hash": "017718ff8815c2e28200b0ec15712f9c3f1df2ede3aa8445637a6e1eb80e7347"
   }
  }
 },
 "nbformat": 4,
 "nbformat_minor": 4
}
