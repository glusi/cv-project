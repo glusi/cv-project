{
 "cells": [
  {
   "attachments": {},
   "cell_type": "markdown",
   "metadata": {},
   "source": [
    "# Computer Vision - Project\n",
    "imports"
   ]
  },
  {
   "cell_type": "code",
   "execution_count": 1,
   "metadata": {},
   "outputs": [
    {
     "name": "stderr",
     "output_type": "stream",
     "text": [
      "2023-01-19 20:34:19.573876: I tensorflow/core/platform/cpu_feature_guard.cc:193] This TensorFlow binary is optimized with oneAPI Deep Neural Network Library (oneDNN) to use the following CPU instructions in performance-critical operations:  AVX2 FMA\n",
      "To enable them in other operations, rebuild TensorFlow with the appropriate compiler flags.\n",
      "2023-01-19 20:34:19.977462: W tensorflow/compiler/xla/stream_executor/platform/default/dso_loader.cc:64] Could not load dynamic library 'libcudart.so.11.0'; dlerror: libcudart.so.11.0: cannot open shared object file: No such file or directory; LD_LIBRARY_PATH: /home/vscode/.local/lib/python3.10/site-packages/cv2/../../lib64:\n",
      "2023-01-19 20:34:19.977488: I tensorflow/compiler/xla/stream_executor/cuda/cudart_stub.cc:29] Ignore above cudart dlerror if you do not have a GPU set up on your machine.\n",
      "2023-01-19 20:34:21.777805: W tensorflow/compiler/xla/stream_executor/platform/default/dso_loader.cc:64] Could not load dynamic library 'libnvinfer.so.7'; dlerror: libnvinfer.so.7: cannot open shared object file: No such file or directory; LD_LIBRARY_PATH: /home/vscode/.local/lib/python3.10/site-packages/cv2/../../lib64:\n",
      "2023-01-19 20:34:21.778305: W tensorflow/compiler/xla/stream_executor/platform/default/dso_loader.cc:64] Could not load dynamic library 'libnvinfer_plugin.so.7'; dlerror: libnvinfer_plugin.so.7: cannot open shared object file: No such file or directory; LD_LIBRARY_PATH: /home/vscode/.local/lib/python3.10/site-packages/cv2/../../lib64:\n",
      "2023-01-19 20:34:21.778328: W tensorflow/compiler/tf2tensorrt/utils/py_utils.cc:38] TF-TRT Warning: Cannot dlopen some TensorRT libraries. If you would like to use Nvidia GPU with TensorRT, please make sure the missing libraries mentioned above are installed properly.\n"
     ]
    }
   ],
   "source": [
    "import numpy as np\n",
    "import cv2\n",
    "import matplotlib.pyplot as plt\n",
    "import tensorflow as tf\n",
    "from sklearn.neighbors import KNeighborsClassifier\n",
    "from sklearn import metrics\n",
    "import h5py\n",
    "import requests"
   ]
  },
  {
   "cell_type": "markdown",
   "metadata": {},
   "source": [
    "Constants"
   ]
  },
  {
   "cell_type": "code",
   "execution_count": 2,
   "metadata": {},
   "outputs": [],
   "source": [
    "#ZIP_PATH = \"https://drive.google.com/drive/folders/1jzHYpTwywUYA53nMGHVROSuVO14hEueq?usp=sharing/\"\n",
    "FILE_NAME =\"SynthText_train.h5\"\n"
   ]
  },
  {
   "cell_type": "code",
   "execution_count": 3,
   "metadata": {},
   "outputs": [],
   "source": [
    "import h5py, requests, os\n",
    "def load_files():    \n",
    "    #with open(FILE_NAME, \"wb\") as f:\n",
    "    #    r = requests.get(ZIP_PATH+FILE_NAME)\n",
    "    #    f.write(r.content)\n",
    "    db = h5py.File(FILE_NAME, 'r')\n",
    "    im_names = list(db['data'].keys())\n",
    "    im = im_names[0]\n",
    "    img  = db['data'][im][:]\n",
    "    #print(img)\n",
    "    font = db['data'][im].attrs['font']\n",
    "    #print(font)\n",
    "    txt = db['data'][im].attrs['txt']\n",
    "    #print(txt)\n",
    "    charBB = db['data'][im].attrs['charBB']\n",
    "    #print(charBB)\n",
    "    wordBB = db['data'][im].attrs['wordBB']\n",
    "    #print(wordBB)\n",
    "    return img, font, txt, charBB, wordBB "
   ]
  },
  {
   "cell_type": "code",
   "execution_count": 4,
   "metadata": {},
   "outputs": [
    {
     "name": "stdout",
     "output_type": "stream",
     "text": [
      "(2, 4, 18)\n"
     ]
    }
   ],
   "source": [
    "img, font, txt, charBB, wordBB = load_files()\n",
    "print(wordBB.shape)"
   ]
  },
  {
   "cell_type": "code",
   "execution_count": 5,
   "metadata": {},
   "outputs": [
    {
     "name": "stdout",
     "output_type": "stream",
     "text": [
      "374.43994 500.64325\n",
      "409\n",
      "445\n",
      "357\n",
      "409\n",
      "445\n",
      "357\n",
      "398\n",
      "374,445\n",
      "357,398\n",
      "T\n",
      "[b'The' b'the' b'him,' b'the' b'and' b'This' b'with' b'Any' b'From' b'Apr'\n",
      " b'This' b'not' b'and' b'core' b'the' b'the' b'all' b'cut']\n",
      "[b'Titillium Web' b'Titillium Web' b'Titillium Web' b'Alex Brush'\n",
      " b'Alex Brush' b'Alex Brush' b'Open Sans' b'Open Sans' b'Open Sans'\n",
      " b'Open Sans' b'Open Sans' b'Open Sans' b'Open Sans' b'Alex Brush'\n",
      " b'Alex Brush' b'Alex Brush' b'Alex Brush' b'Alex Brush' b'Alex Brush'\n",
      " b'Alex Brush' b'Titillium Web' b'Titillium Web' b'Titillium Web'\n",
      " b'Titillium Web' b'Sansation' b'Sansation' b'Sansation' b'Sansation'\n",
      " b'Sansation' b'Sansation' b'Sansation' b'Sansation' b'Sansation'\n",
      " b'Sansation' b'Alex Brush' b'Alex Brush' b'Alex Brush' b'Alex Brush'\n",
      " b'Alex Brush' b'Alex Brush' b'Alex Brush' b'Titillium Web'\n",
      " b'Titillium Web' b'Titillium Web' b'Sansation' b'Sansation' b'Sansation'\n",
      " b'Sansation' b'Titillium Web' b'Titillium Web' b'Titillium Web'\n",
      " b'Alex Brush' b'Alex Brush' b'Alex Brush' b'Titillium Web'\n",
      " b'Titillium Web' b'Titillium Web' b'Titillium Web' b'Titillium Web'\n",
      " b'Titillium Web']\n"
     ]
    },
    {
     "data": {
      "image/png": "[encoded data removed]",
      "text/plain": [
       "<Figure size 640x480 with 1 Axes>"
      ]
     },
     "metadata": {},
     "output_type": "display_data"
    }
   ],
   "source": [
    "import matplotlib.patches as patches\n",
    "\n",
    "x = wordBB[0][0][0]\n",
    "y= wordBB[0][1][0]\n",
    "print(x,y)\n",
    "x1 = int(charBB[0,0,0])\n",
    "x2 = int(charBB[0,1,0])\n",
    "print(x1)\n",
    "print(x2)\n",
    "y1 = int(charBB[1,1,0])\n",
    "y2 = int(charBB[1,2,0])\n",
    "print(y1)\n",
    "x3 = int(charBB[0,2,0])\n",
    "x4 = int(charBB[0,3,0])\n",
    "print(x1)\n",
    "print(x2)\n",
    "y3 = int(charBB[1,3,0])\n",
    "y4 = int(charBB[1,0,0])\n",
    "print(y1)\n",
    "#rect = patches.Rectangle((x1, y1), x2-x1, y2-y1, linewidth=1, edgecolor='r', facecolor='none')\n",
    "print(y2)\n",
    "# Create figure and axes\n",
    "#fig, ax = plt.subplots()\n",
    "# Add the patch to the Axes\n",
    "#ax.add_patch(rect)\n",
    "top_left_x = min([x1,x2,x3,x4])\n",
    "top_left_y = min([y1,y2,y3,y4])\n",
    "bot_right_x = max([x1,x2,x3,x4])\n",
    "bot_right_y = max([y1,y2,y3,y4])\n",
    "print(str(top_left_x)+','+str(bot_right_x))\n",
    "print(str(top_left_y)+','+str(bot_right_y))\n",
    "plt.imshow(img[top_left_y:bot_right_y+1, top_left_x:bot_right_x+1])\n",
    "#plt.show()\n",
    "print(chr(txt[0][0]))\n",
    "print(txt)\n",
    "print(font)"
   ]
  },
  {
   "cell_type": "code",
   "execution_count": 6,
   "metadata": {},
   "outputs": [],
   "source": [
    "def get_bb(img, bbs, indx):\n",
    "    x1 = int(bbs[0,0,indx])\n",
    "    x2 = int(bbs[0,1,indx])\n",
    "    y1 = int(bbs[1,1,indx])\n",
    "    y2 = int(bbs[1,2,indx])\n",
    "    x3 = int(bbs[0,2,indx])\n",
    "    x4 = int(bbs[0,3,indx])\n",
    "    y3 = int(bbs[1,3,indx])\n",
    "    y4 = int(bbs[1,0,indx])\n",
    "    top_left_x = max(0, min([x1,x2,x3,x4]))\n",
    "    top_left_y = max(0, min([y1,y2,y3,y4]))\n",
    "    bot_right_x = max(0, max([x1,x2,x3,x4]))\n",
    "    bot_right_y = max(0, max([y1,y2,y3,y4]))\n",
    "    #print(str(top_left_x)+','+str(bot_right_x))\n",
    "    #print(str(top_left_y)+','+str(bot_right_y))\n",
    "    return img[top_left_y:bot_right_y+1, top_left_x:bot_right_x+1]"
   ]
  },
  {
   "cell_type": "code",
   "execution_count": 7,
   "metadata": {},
   "outputs": [],
   "source": [
    "def font_to_num(font):\n",
    "    if font == 'Alex Brush':\n",
    "        return 0\n",
    "    elif font == 'Titillium Web':\n",
    "        return 1\n",
    "    elif font == 'Sansation':\n",
    "        return 2\n",
    "    elif font == 'Open Sans':\n",
    "        return 3\n",
    "    else:\n",
    "        return 4"
   ]
  },
  {
   "cell_type": "code",
   "execution_count": 8,
   "metadata": {},
   "outputs": [],
   "source": [
    "def scale_resize_image(image, size):\n",
    "    image = tf.image.convert_image_dtype(image, tf.float32) # equivalent to dividing image pixels by 255\n",
    "    image = tf.image.resize(image, (size, size)) # Resizing the image to 224x224 dimention\n",
    "    return image\n"
   ]
  },
  {
   "cell_type": "code",
   "execution_count": 9,
   "metadata": {},
   "outputs": [],
   "source": [
    "db = h5py.File(FILE_NAME, 'r')\n",
    "im_names = list(db['data'].keys())\n",
    "train_x = []\n",
    "train_y = []\n",
    "for i in range(0, len(im_names)-1):\n",
    "    #print(\"i=\"+str(i))\n",
    "    im = im_names[i]\n",
    "    img  = db['data'][im][:]\n",
    "    fonts = db['data'][im].attrs['font']\n",
    "    txts = db['data'][im].attrs['txt']\n",
    "    charBBs = db['data'][im].attrs['charBB']\n",
    "    wordBBs = db['data'][im].attrs['wordBB']\n",
    "    #print(len(fonts))\n",
    "    #print(len(txts))\n",
    "    font_indx = 0 \n",
    "    char_indx = 0\n",
    "    #sum_chars=0\n",
    "    for j in range(0, len(txts)):\n",
    "        #print(\"j=\"+str(j))\n",
    "        #print('sum chars='+str(sum_chars))\n",
    "        #print(txts[j])\n",
    "        cropped = get_bb(img, wordBBs, j)\n",
    "        #print(cropped.shape)\n",
    "        #plt.imshow(cropped)\n",
    "        #plt.show()\n",
    "        train_x.append(cropped)\n",
    "        #print(fonts[font_indx])\n",
    "        train_y.append(font_to_num(fonts[font_indx]))\n",
    "        font_indx += len(txts[j])\n",
    "        for k in range(0, len(txts[j])):\n",
    "            cropped = get_bb(img, charBBs, char_indx)\n",
    "            #plt.imshow(cropped)\n",
    "            #plt.show()\n",
    "            train_x.append(cropped)\n",
    "            #print(fonts[char_indx])\n",
    "            \n",
    "            train_y.append(font_to_num(fonts[char_indx]))\n",
    "            char_indx+=1\n",
    "        #sum_chars+=len(txts[j])\n",
    "            \n",
    "    "
   ]
  },
  {
   "cell_type": "code",
   "execution_count": 10,
   "metadata": {},
   "outputs": [
    {
     "name": "stderr",
     "output_type": "stream",
     "text": [
      "2023-01-19 20:34:51.763533: W tensorflow/compiler/xla/stream_executor/platform/default/dso_loader.cc:64] Could not load dynamic library 'libcuda.so.1'; dlerror: libcuda.so.1: cannot open shared object file: No such file or directory; LD_LIBRARY_PATH: /home/vscode/.local/lib/python3.10/site-packages/cv2/../../lib64:\n",
      "2023-01-19 20:34:51.763956: W tensorflow/compiler/xla/stream_executor/cuda/cuda_driver.cc:265] failed call to cuInit: UNKNOWN ERROR (303)\n",
      "2023-01-19 20:34:51.764086: I tensorflow/compiler/xla/stream_executor/cuda/cuda_diagnostics.cc:156] kernel driver does not appear to be running on this host (6d33a50d07f8): /proc/driver/nvidia/version does not exist\n",
      "2023-01-19 20:34:51.768046: I tensorflow/core/platform/cpu_feature_guard.cc:193] This TensorFlow binary is optimized with oneAPI Deep Neural Network Library (oneDNN) to use the following CPU instructions in performance-critical operations:  AVX2 FMA\n",
      "To enable them in other operations, rebuild TensorFlow with the appropriate compiler flags.\n"
     ]
    }
   ],
   "source": [
    "for i in range(0, len(train_x)):\n",
    "    train_x[i] = scale_resize_image(train_x[i], 64)"
   ]
  },
  {
   "cell_type": "code",
   "execution_count": 11,
   "metadata": {},
   "outputs": [
    {
     "name": "stdout",
     "output_type": "stream",
     "text": [
      "25394\n",
      "12508\n"
     ]
    }
   ],
   "source": [
    "#cut the set for train and validation\n",
    "from sklearn.model_selection import train_test_split\n",
    "x_train, x_test, y_train, y_test = train_test_split(train_x, train_y, test_size=0.33, random_state=42)\n",
    "\n",
    "print(len(x_train))\n",
    "print(len(x_test))"
   ]
  },
  {
   "cell_type": "code",
   "execution_count": 12,
   "metadata": {},
   "outputs": [],
   "source": [
    "np.random.seed(123) # for reproducibility\n",
    "from keras.models import Sequential\n",
    "from keras.layers import Dense, Dropout, Activation, Flatten\n",
    "from keras.layers import Convolution2D, MaxPooling2D\n",
    "from keras.utils import np_utils"
   ]
  },
  {
   "cell_type": "code",
   "execution_count": 13,
   "metadata": {},
   "outputs": [],
   "source": [
    "Y_train = np_utils.to_categorical(y_train, 5)\n",
    "Y_test = np_utils.to_categorical(y_test, 5)"
   ]
  },
  {
   "cell_type": "code",
   "execution_count": 14,
   "metadata": {},
   "outputs": [],
   "source": [
    "model = Sequential()\n",
    "model.add(Convolution2D(32, 3, 3, activation='relu', padding='same', input_shape=(64,64,3)))\n",
    "model.add(Convolution2D(32, 3, 3, activation='relu'))\n",
    "model.add(MaxPooling2D(pool_size=(2,2)))\n",
    "model.add(Dropout(0.25))\n",
    "model.add(Flatten())\n",
    "model.add(Dense(128, activation='relu'))\n",
    "model.add(Dropout(0.5))\n",
    "model.add(Dense(5, activation='softmax'))"
   ]
  },
  {
   "cell_type": "code",
   "execution_count": 15,
   "metadata": {},
   "outputs": [],
   "source": [
    "model.compile(loss='categorical_crossentropy',optimizer='adam')"
   ]
  },
  {
   "cell_type": "code",
   "execution_count": 16,
   "metadata": {},
   "outputs": [
    {
     "name": "stdout",
     "output_type": "stream",
     "text": [
      "25394\n",
      "25394\n",
      "(25394, 64, 64, 3)\n",
      "(25394, 5)\n"
     ]
    },
    {
     "name": "stderr",
     "output_type": "stream",
     "text": [
      "2023-01-19 20:35:22.207805: W tensorflow/tsl/framework/cpu_allocator_impl.cc:82] Allocation of 1248165888 exceeds 10% of free system memory.\n"
     ]
    },
    {
     "name": "stdout",
     "output_type": "stream",
     "text": [
      "Epoch 1/10\n",
      "794/794 [==============================] - 16s 17ms/step - loss: 0.0099\n",
      "Epoch 2/10\n",
      "794/794 [==============================] - 9s 11ms/step - loss: 1.0364e-07\n",
      "Epoch 3/10\n",
      "794/794 [==============================] - 8s 10ms/step - loss: 9.6959e-08\n",
      "Epoch 4/10\n",
      "794/794 [==============================] - 7s 9ms/step - loss: 4.1502e-08\n",
      "Epoch 5/10\n",
      "794/794 [==============================] - 7s 9ms/step - loss: 3.2370e-08\n",
      "Epoch 6/10\n",
      "794/794 [==============================] - 8s 10ms/step - loss: 5.6612e-09\n",
      "Epoch 7/10\n",
      "794/794 [==============================] - 7s 9ms/step - loss: 9.0132e-10\n",
      "Epoch 8/10\n",
      "794/794 [==============================] - 8s 10ms/step - loss: 1.6571e-09\n",
      "Epoch 9/10\n",
      "794/794 [==============================] - 7s 9ms/step - loss: 2.5396e-09\n",
      "Epoch 10/10\n",
      "794/794 [==============================] - 8s 10ms/step - loss: 3.9902e-10\n"
     ]
    },
    {
     "data": {
      "text/plain": [
       "<keras.callbacks.History at 0x7f85884c7f70>"
      ]
     },
     "execution_count": 16,
     "metadata": {},
     "output_type": "execute_result"
    }
   ],
   "source": [
    "print(len(x_train))\n",
    "print(len(Y_train))\n",
    "X_train = np.array(x_train)\n",
    "Y_train = np.array(Y_train)\n",
    "#X_train = X_train.reshape(X_train.shape[0], 1, 64, 64)\n",
    "#X_train = X_train.astype('float32')\n",
    "#X_train /= 255\n",
    "print(X_train.shape)\n",
    "print(Y_train.shape)\n",
    "model.fit(X_train, Y_train, batch_size=32, epochs=10, verbose=1)"
   ]
  },
  {
   "cell_type": "code",
   "execution_count": 17,
   "metadata": {},
   "outputs": [
    {
     "name": "stderr",
     "output_type": "stream",
     "text": [
      "2023-01-19 20:38:19.715440: W tensorflow/tsl/framework/cpu_allocator_impl.cc:82] Allocation of 614793216 exceeds 10% of free system memory.\n"
     ]
    }
   ],
   "source": [
    "X_test = np.array(x_test)\n",
    "score = model.evaluate(X_test, Y_test, verbose=0)"
   ]
  },
  {
   "cell_type": "code",
   "execution_count": 18,
   "metadata": {},
   "outputs": [
    {
     "name": "stdout",
     "output_type": "stream",
     "text": [
      "0.0\n"
     ]
    }
   ],
   "source": [
    "print(score)"
   ]
  }
 ],
 "metadata": {
  "kernelspec": {
   "display_name": "Python 3",
   "language": "python",
   "name": "python3"
  },
  "language_info": {
   "codemirror_mode": {
    "name": "ipython",
    "version": 3
   },
   "file_extension": ".py",
   "mimetype": "text/x-python",
   "name": "python",
   "nbconvert_exporter": "python",
   "pygments_lexer": "ipython3",
   "version": "3.10.9"
  },
  "orig_nbformat": 4,
  "vscode": {
   "interpreter": {
    "hash": "949777d72b0d2535278d3dc13498b2535136f6dfe0678499012e853ee9abcab1"
   }
  }
 },
 "nbformat": 4,
 "nbformat_minor": 2
}
